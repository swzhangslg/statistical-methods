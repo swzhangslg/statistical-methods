{
 "cells": [
  {
   "cell_type": "markdown",
   "metadata": {},
   "source": [
    "# One-way ANOVA "
   ]
  },
  {
   "cell_type": "markdown",
   "metadata": {},
   "source": [
    "## 背景描述\n",
    "\n",
    "为了调查吃巧克力对心血管健康的影响，实验由三种类型的巧克力组成：100g的黑巧克力，含有200mg全脂牛奶的100g黑巧克力和200g的牛奶巧克力。12个实验对象：7女5男。在不同的天数里，每个实验对象将吃一种类型的巧克力，一个小时后测量他们血浆的总抗氧能力。 \n",
    "\n",
    "这是一个因子水平数 𝑎 = 3 和重复次数 𝑛 = 12 的单因子实验。"
   ]
  },
  {
   "cell_type": "markdown",
   "metadata": {},
   "source": [
    "## 数据描述\n",
    "实验次序本身具有随机性，无需再随机化\n",
    "\n",
    "|       变量名        |  变量含义  |       变量类型       | 变量取值范围 |\n",
    "| :-----------------: | :--------: | :------------------: | :----------: |\n",
    "| （自变量）Chocolate | 巧克力类型 | categorical variable |  [1, 2, 3]   |\n",
    "| （因变量）Capacity  |  血浆浓度  | continuous variable  |     Real     |"
   ]
  },
  {
   "cell_type": "code",
   "execution_count": 1,
   "metadata": {},
   "outputs": [
    {
     "name": "stdout",
     "output_type": "stream",
     "text": [
      "[[  1.    1.  118.8]\n",
      " [  2.    1.  122.6]\n",
      " [  3.    1.  115.6]\n",
      " [  4.    1.  113.6]\n",
      " [  5.    1.  119.5]\n",
      " [  6.    1.  115.9]\n",
      " [  7.    1.  115.8]\n",
      " [  8.    1.  115.1]\n",
      " [  9.    1.  116.9]\n",
      " [ 10.    1.  115.4]\n",
      " [ 11.    1.  115.6]\n",
      " [ 12.    1.  107.9]\n",
      " [  1.    2.  105.4]\n",
      " [  2.    2.  101.1]\n",
      " [  3.    2.  102.7]\n",
      " [  4.    2.   97.1]\n",
      " [  5.    2.  101.9]\n",
      " [  6.    2.   98.9]\n",
      " [  7.    2.  100. ]\n",
      " [  8.    2.   99.8]\n",
      " [  9.    2.  102.6]\n",
      " [ 10.    2.  100.9]\n",
      " [ 11.    2.  104.5]\n",
      " [ 12.    2.   93.5]\n",
      " [  1.    3.  102.1]\n",
      " [  2.    3.  105.8]\n",
      " [  3.    3.   99.6]\n",
      " [  4.    3.  102.7]\n",
      " [  5.    3.   98.8]\n",
      " [  6.    3.  100.9]\n",
      " [  7.    3.  102.8]\n",
      " [  8.    3.   98.7]\n",
      " [  9.    3.   94.7]\n",
      " [ 10.    3.   97.8]\n",
      " [ 11.    3.   99.7]\n",
      " [ 12.    3.   98.6]]\n"
     ]
    }
   ],
   "source": [
    "import pandas as pd\n",
    "print(pd.read_csv('data/Project1.csv').values)"
   ]
  },
  {
   "cell_type": "markdown",
   "metadata": {},
   "source": [
    "## 问题 \n",
    "注：这里使用 \\alpha=0.05 的显著性水平\n",
    "\n",
    "1. 试判断食用的 3 种巧克力对心血管健康的影响是否有差异.\n",
    "2. 试判断该实验用One-way ANOVA模型是否恰当.\n",
    "3. 估计食用这 3 种巧克力 1h 后血浆的总抗氧能力均值和误差的方差.\n",
    "4. 若Q1判断存在差异，请进行多重比较."
   ]
  },
  {
   "cell_type": "markdown",
   "metadata": {},
   "source": [
    "## 解决方案\n",
    "**Q1:**  \n",
    "检验假设 $H_0: \\mu_1 = \\mu_2 = \\mu_3$ ;  $H_1: \\mu_1, \\mu_2, \\mu_3$不全相等"
   ]
  },
  {
   "cell_type": "code",
   "execution_count": 2,
   "metadata": {},
   "outputs": [],
   "source": [
    "# Import standard packages\n",
    "import numpy as np\n",
    "import pandas as pd\n",
    "import scipy.stats as stats\n",
    "import matplotlib.pyplot as plt\n",
    "import math"
   ]
  },
  {
   "cell_type": "code",
   "execution_count": 3,
   "metadata": {},
   "outputs": [],
   "source": [
    "# Import additional packages\n",
    "from statsmodels.formula.api import ols\n",
    "from statsmodels.stats.anova import anova_lm\n",
    "from scipy.stats import f"
   ]
  },
  {
   "cell_type": "code",
   "execution_count": 4,
   "metadata": {},
   "outputs": [],
   "source": [
    "alpha = 0.05\n",
    "a = 3\n",
    "n = 12\n",
    "x = pd.read_csv('data/Project1.csv')\n",
    "data = x.values[:,1:3]\n",
    "# print(data)"
   ]
  },
  {
   "cell_type": "code",
   "execution_count": 5,
   "metadata": {},
   "outputs": [],
   "source": [
    "# Sort them into groups, according to column 1(\"Chocolate\")\n",
    "group1 = data[data[:,0] == 1,1]\n",
    "group2 = data[data[:,0] == 2,1]\n",
    "group3 = data[data[:,0] == 3,1]"
   ]
  },
  {
   "cell_type": "code",
   "execution_count": 6,
   "metadata": {},
   "outputs": [
    {
     "name": "stdout",
     "output_type": "stream",
     "text": [
      "The ANOVA table: \n",
      "                 df   sum_sq  mean_sq      F  PR(>F)\n",
      "C(Chocolate)   2.0  1952.64   976.32  93.58     0.0\n",
      "Residual      33.0   344.31    10.43    NaN     NaN\n"
     ]
    }
   ],
   "source": [
    "# Do the one-way ANOVA\n",
    "df = pd.DataFrame(data, columns = ['Chocolate', 'Capacity'])   \n",
    "model = ols('Capacity ~ C(Chocolate)', df).fit()\n",
    "anovaResults = round(anova_lm(model), 2)\n",
    "print('The ANOVA table: \\n', anovaResults)  "
   ]
  },
  {
   "cell_type": "code",
   "execution_count": 7,
   "metadata": {},
   "outputs": [],
   "source": [
    "F0, pVal1 = stats.f_oneway(group1, group2, group3)"
   ]
  },
  {
   "cell_type": "code",
   "execution_count": 8,
   "metadata": {},
   "outputs": [
    {
     "name": "stdout",
     "output_type": "stream",
     "text": [
      "\n",
      "Since p-value < 0.05, reject H0.\n"
     ]
    }
   ],
   "source": [
    "# 法1：\n",
    "# print(pVal1)\n",
    "if pVal1 < alpha:\n",
    "    print('\\nSince p-value < 0.05, reject H0.')\n",
    "else:\n",
    "    print('\\nAccept H0.') "
   ]
  },
  {
   "cell_type": "code",
   "execution_count": 9,
   "metadata": {},
   "outputs": [
    {
     "name": "stdout",
     "output_type": "stream",
     "text": [
      "Since F0 > F(0.05,3,16) =  3.28 , reject H0.\n"
     ]
    }
   ],
   "source": [
    "# 法2：\n",
    "F = round(f.ppf(0.95,dfn = 2,dfd = 33), 2)\n",
    "if F0 > F:\n",
    "    print('Since F0 > F(0.05,3,16) = ', F, ', reject H0.')\n",
    "else:\n",
    "    print('Accept H0.') "
   ]
  },
  {
   "cell_type": "markdown",
   "metadata": {},
   "source": [
    "p-value小于 0.05 （F值大于 3.28），故拒绝原假设，即食用的 3 种巧克力对心血管健康的影响有差异。"
   ]
  },
  {
   "cell_type": "markdown",
   "metadata": {},
   "source": [
    "**Q2:**  \n",
    "ANOVA模型： \n",
    "$y_{ij} = \\mu + \\tau_i + \\epsilon_{ij}$ 的误差服从正态独立分布，其均值为零，方差为未知的常数$\\sigma^2$。\n",
    "\n",
    "想要判断ANOVA模型是否恰当，可以利用残差检测来进行分析。  \n",
    "处理 $i$ 的观测值 $j$ 的残差定义为：$e_{ij} = y_{ij} - \\hat{y}_{ij}$  \n",
    "其中$\\hat{y}_{ij}$是对应于$y_{ij}$的一个估计， \n",
    "$\\hat{y}_{ij} = \\hat{\\mu} + \\hat{\\tau}_i = \\overline{y}_{··} + (\\overline{y}_{i·} - \\overline{y}_{··}) = \\overline{y}_{i·}$  \n",
    "  \n",
    "**1. 独立性检验**  "
   ]
  },
  {
   "cell_type": "code",
   "execution_count": 10,
   "metadata": {},
   "outputs": [],
   "source": [
    "# 计算血浆浓度的残差\n",
    "data_res = data.astype(float)*1\n",
    "list_c = [1,2,3]\n",
    "for k in list_c:\n",
    "    cnt = data_res[data_res[:,0] == k,1]\n",
    "    data_res[data_res[:,0] == k,1] = cnt - np.mean(cnt)"
   ]
  },
  {
   "cell_type": "markdown",
   "metadata": {},
   "source": [
    "【】利用Durbin-Watson检验，又称DW检验来做独立性检验。是用来检验分析中残差的一阶自相关性的。  \n",
    "各残差的相关性方程为：$e_i = \\rho * e_{i-1} + v_i$，检验的原假设为：$\\rho = 0$，备择假设为：$\\rho \\neq 0$  \n",
    "检验统计量为：$d = \\frac{\\sum^T_{t=2}\\quad(e_i-e_{i-1})^2}{\\sum^T_{t=1}\\quad e_i^2}$  \n",
    "该统计量值越接近 2 越好，一般在 1~3 之间说明没问题，小于 1 这说明残差存在自相关性（有临界值表可以查）。 "
   ]
  },
  {
   "cell_type": "code",
   "execution_count": 11,
   "metadata": {},
   "outputs": [
    {
     "name": "stdout",
     "output_type": "stream",
     "text": [
      "Durbin-Watson检验的统计量为： 2.3\n"
     ]
    }
   ],
   "source": [
    "# 用Durbin-Watson检验进行独立性检验\n",
    "def durbin_watson(residuals):\n",
    "    nume = sum(np.diff(residuals.T) ** 2)\n",
    "    deno = sum(residuals ** 2)\n",
    "    return nume / deno\n",
    "res = data_res[:, 1]\n",
    "dw = durbin_watson(res)\n",
    "print('Durbin-Watson检验的统计量为：', round(dw,2))"
   ]
  },
  {
   "cell_type": "markdown",
   "metadata": {},
   "source": [
    "由分析可知，Durbin-Watson检验的统计量为：2.3，在 1~3 之间，故没有违反独立性的假定。\n",
    "\n",
    "\n",
    "**2. 方差齐性检验**  \n",
    "【法1】Bartlett检验的核心思想是通过求取不同组之间的卡方统计量，然后根据卡方统计量的值来判断组间方差是否相等。该方法极度依赖于数据是正态分布，如果数据非正态分布，则的出来的结果偏差很大。  \n",
    "Bartlett检验统计量为：$\\chi_0^2 = 2.3026\\frac{q}{c}$  \n",
    "其中，$q = (N - a)log_{10}S_p^2 - \\sum_{i=1}^a(n_i - 1)log_{10}S_i^2$  \n",
    "$c = 1 + \\frac{1}{3(a-1)}(\\sum_{i=1}^a(n_i-1)^{-1} - (N - a)^{-1})$  \n",
    "$S_p^2 = \\frac{\\sum_{i=1}^a\\quad(n_i-1)S_i^2}{N - a}$ 且$S_i^2$是第 $i$ 个总体的样本方差；当$\\chi_0^2 > \\chi_{\\alpha,a-1}^2$ 时，拒绝$H_0$，其中$\\chi_{\\alpha,a-1}^2$是自由度为$a-1$的卡方分布上的 $\\alpha$ 分位数。"
   ]
  },
  {
   "cell_type": "code",
   "execution_count": 12,
   "metadata": {},
   "outputs": [
    {
     "name": "stdout",
     "output_type": "stream",
     "text": [
      "Bartlett检验的P值为： 0.81\n",
      "Accept H0\n",
      "Bartlett检验统计量： 0.42\n",
      "𝜒_(𝛼,𝑎−1)^2:  5.99\n",
      "Accept H0\n"
     ]
    }
   ],
   "source": [
    "# 用Bartlett检验进行方差齐性检验\n",
    "bart, pVal2 = stats.bartlett(group1, group2, group3)\n",
    "bart_stat = stats.chi2.isf(alpha, a-1)\n",
    "\n",
    "# 法1：\n",
    "print('Bartlett检验的P值为：', round(pVal2, 2))\n",
    "if pVal2 < alpha:\n",
    "    print('Since p-value < 0.05, reject H0.')\n",
    "else:\n",
    "    print('Accept H0')  \n",
    "\n",
    "# 法2：\n",
    "print('Bartlett检验统计量：', round(bart, 2))\n",
    "print('𝜒_(𝛼,𝑎−1)^2: ', round(bart_stat, 2))\n",
    "if bart > bart_stat:\n",
    "    print('Since 𝜒_0^2 > 𝜒_(𝛼,𝑎−1)^2, reject H0.')\n",
    "else:\n",
    "    print('Accept H0')  \n"
   ]
  },
  {
   "cell_type": "markdown",
   "metadata": {},
   "source": [
    "由分析可知，Bartlett检验的P值大于 0.05 且Bartlett检验统计量小于 5.99，故接受原假设，即残差具有方差齐性。  \n",
    "  \n",
    "【法2】Levene检验是将每个值先转换为该值与其组内均值的偏离程度，然后再用转换后的偏离程度去做方差分析，即组间方差/组内方差。修正后的Levene检验中的均值采用中位数的计算方法，因此这里的偏差用每个处理的观测值$y_{ij}$与该处理中的中位数$\\tilde{y}_{i·}$的偏差的绝对值来表示：$d_{ij} = |y_{ij} - \\tilde{y}_{i·}|, i = 1,2,···,a;j = 1,2,···,n$"
   ]
  },
  {
   "cell_type": "code",
   "execution_count": 13,
   "metadata": {},
   "outputs": [
    {
     "name": "stdout",
     "output_type": "stream",
     "text": [
      "Levene检验的P值为： 0.98\n",
      "Accept H0\n"
     ]
    }
   ],
   "source": [
    "# 用Levene检验进行方差齐性检验\n",
    "lene, pVal3 = stats.levene(group1, group2, group3)\n",
    "print('Levene检验的P值为：', round(pVal3, 2))\n",
    "if pVal3 < alpha:\n",
    "    print('Since p-value < 0.05, reject H0.')\n",
    "else:\n",
    "    print('Accept H0')  "
   ]
  },
  {
   "cell_type": "markdown",
   "metadata": {},
   "source": [
    "由分析可知，Levene检验的P值大于 0.05，故残差具有方差齐性。"
   ]
  },
  {
   "cell_type": "markdown",
   "metadata": {},
   "source": [
    "**3. 正态性检验**  \n",
    "【法1】利用qq图（The quantitle-quantile plot），来检验数据分布的相似性。令X轴为正态分布的分位数，Y轴为样本分位数，如果这两者构成的点分布在一条直线上，就证明样本数据与正态分布存在线性相关性，即服从正态分布。"
   ]
  },
  {
   "cell_type": "code",
   "execution_count": 14,
   "metadata": {},
   "outputs": [
    {
     "data": {
      "image/png": "[encoded data removed]",
      "text/plain": [
       "<Figure size 432x288 with 1 Axes>"
      ]
     },
     "metadata": {
      "needs_background": "light"
     },
     "output_type": "display_data"
    },
    {
     "name": "stdout",
     "output_type": "stream",
     "text": [
      "[-8.15833333 -7.2        -5.48333333 -3.6        -2.45833333 -2.38333333\n",
      " -1.8        -1.58333333 -1.48333333 -1.38333333 -0.95833333 -0.9\n",
      " -0.7        -0.65833333 -0.58333333 -0.48333333 -0.45833333 -0.45833333\n",
      " -0.25833333 -0.15833333  0.2         0.4         0.71666667  0.84166667\n",
      "  1.2         1.9         1.91666667  2.          2.51666667  2.61666667\n",
      "  2.74166667  3.44166667  3.8         4.7         5.61666667  6.54166667]\n"
     ]
    }
   ],
   "source": [
    "# 用qq图进行正态性检验\n",
    "osm, osr = stats.probplot(res, dist = 'norm', plot = plt)\n",
    "x1 = osm[0][0]\n",
    "y1 = osm[1][0]\n",
    "plt.text(x1, y1, '%.2f' % float(y1), ha = 'center', va = 'bottom',fontsize = 9)\n",
    "x2 = osm[0][-1]\n",
    "y2 = osm[1][-1]\n",
    "plt.text(x2, y2, '%.2f' % float(y2), ha = 'center', va = 'bottom',fontsize = 9)\n",
    "plt.grid()\n",
    "plt.show()\n",
    "\n",
    "print(osm[1])"
   ]
  },
  {
   "cell_type": "markdown",
   "metadata": {},
   "source": [
    "由上图可以看出，总体上来看，误差分布是近似正态的；qq图在左边稍向下弯曲，这意味着误差分布的左侧尾部比起正态分布的尾部要更厚一些；也就是说，最大的残差不完全如所期望的那样小。  \n",
    "检测异常值的方法：  \n",
    "计算标准化残差：$d_{ij} = \\frac{e_{ij}}{\\sqrt{MS_E}}$。一般地，标准化残差约 68% 落在 ±1 之内，约 95% 落在 ±2 之内，几乎全部落在 ±3 之内。标准化残差的绝对值大于3的残差是一个可能的异常值。  \n",
    "找一个绝对值最大的数值： -8.16; \n",
    "由上述公式得 $d_1 = \\frac{e_1}{\\sqrt{MS_E}} = \\frac{8.16}{\\sqrt{10.43}} = 2.53 < 3$，故可说明无明显的异常值，即残差是服从正态分布的。  "
   ]
  },
  {
   "cell_type": "markdown",
   "metadata": {},
   "source": [
    "【法2】利用Shapiro-Wilk检验来做正态性检验，其原假设：样本数据符合正态分布。（注：适用于小样本）  \n",
    "利用方法stats.shapiro()检验正态性，输出结果中第一个为统计量，第二个为P值（统计量越接近 1 越表明数据和正态分布拟合的好，P值大于指定的显著性水平，接受原假设，认为样本来自服从正态分布的总体）"
   ]
  },
  {
   "cell_type": "code",
   "execution_count": 15,
   "metadata": {},
   "outputs": [
    {
     "name": "stdout",
     "output_type": "stream",
     "text": [
      "0.96\n",
      "0.26\n",
      "\n",
      "Accept the null hypothesis.\n"
     ]
    }
   ],
   "source": [
    "# 用Shapiro-Wilk检验进行正态性检验\n",
    "SW, pVal4 = stats.shapiro(res)\n",
    "print(round(SW, 2))\n",
    "print(round(pVal4, 2))\n",
    "\n",
    "if pVal4 > alpha:\n",
    "    print('\\nAccept the null hypothesis.')\n",
    "else:\n",
    "    print('\\nSince p-value > 0.05, reject the null null hypothesis') "
   ]
  },
  {
   "cell_type": "markdown",
   "metadata": {},
   "source": [
    "由上述分析可知，统计量为 0.96，接近 1；且P值为 0.26，大于指定的显著性水平 0.05。故认为残差来自服从正态分布的总体。 "
   ]
  },
  {
   "cell_type": "markdown",
   "metadata": {},
   "source": [
    "**Q3:** "
   ]
  },
  {
   "cell_type": "code",
   "execution_count": 16,
   "metadata": {},
   "outputs": [
    {
     "name": "stdout",
     "output_type": "stream",
     "text": [
      "Estimate of the population mean：[116.05833333333334, 100.7, 100.18333333333332]\n",
      "An estimate of the population variance：10.43\n"
     ]
    }
   ],
   "source": [
    "# Estimation of Parameter(𝜎2 and 𝜇𝑖 )\n",
    "mu_1 = np.mean(group1)\n",
    "mu_2 = np.mean(group2)\n",
    "mu_3 = np.mean(group3)\n",
    "\n",
    "mu = [mu_1, mu_2, mu_3]\n",
    "\n",
    "sse = 0\n",
    "for i in range(a):\n",
    "    se = 0\n",
    "    c_list = data[data[:,0] == (1 + i),1]\n",
    "    for j in range(n):\n",
    "        se += (c_list[j] - mu[i]) ** 2\n",
    "    sse += se\n",
    "var = round(sse / (a * (n - 1)),2) \n",
    "print('Estimate of the population mean：{0}'.format(mu))\n",
    "print('An estimate of the population variance：{0}'.format(var))"
   ]
  },
  {
   "cell_type": "markdown",
   "metadata": {},
   "source": [
    "由上述分析可知，3个水平下均值的估计值分别为：116.06，100.70，100.18 \n",
    "\n",
    "其方差的估计值为：10.43"
   ]
  },
  {
   "cell_type": "markdown",
   "metadata": {},
   "source": [
    "**Q4:**  \n",
    "多重比较采用Fisher最小显著性差异（LSD）方法。  \n",
    "检验：$H_0: \\mu_i = \\mu_j$ vs $H_1: \\mu_i \\neq \\mu_j$  \n",
    "检验统计量：$t_0 = \\frac{\\overline{y}_{i·} - \\overline{y}_{j·}}{\\sqrt{MS_E·2/n}}$  \n",
    "当$|\\overline{y}_{i·} - \\overline{y}_{j·}| > t_{\\frac{\\alpha}{2},N-a}\\sqrt{MS_E·2/n}$时，拒绝原假设，可表明均值对$\\mu_i$与$\\mu_j$有显著性差异。"
   ]
  },
  {
   "cell_type": "code",
   "execution_count": 17,
   "metadata": {},
   "outputs": [
    {
     "name": "stdout",
     "output_type": "stream",
     "text": [
      "The difference between group 1 and group 2 :  15.4\n",
      "The difference between group 1 and group 3 :  15.9\n",
      "The difference between group 2 and group 3 :  0.5\n",
      "Value of LSD:  2.68\n",
      "No difference between group 2 and group 3 : \n"
     ]
    }
   ],
   "source": [
    "#LSD(least significant difference)最小显著差异\n",
    "def LSD():   \n",
    "    df = a * (n-1)\n",
    "    t_value = stats.t(df).isf(alpha / 2)    \n",
    "    mse = var\n",
    "    lsd = t_value * math.sqrt(2.0 * mse / n)\n",
    "    # print(lsd)\n",
    "    return lsd\n",
    "\n",
    "for i in range(a):\n",
    "    for j in range(i + 1,a):\n",
    "        dist = round(abs(mu[i] - mu[j]), 1)\n",
    "        print('The difference between group', i + 1, 'and group', j + 1, ': ', dist)\n",
    "print('Value of LSD: ', round(LSD(),2))\n",
    "        \n",
    "cmp = 0\n",
    "for s in range(a):\n",
    "    for t in range(s + 1, a):\n",
    "        lsd = LSD()\n",
    "        dist = round(abs(mu[s] - mu[t]), 1)\n",
    "        if(dist < lsd):\n",
    "            print('No difference between group', s + 1, 'and group', t + 1, ': ')\n",
    "            cmp += 1\n",
    "if(cmp == 0):\n",
    "    print('Reject H0, and there is significant difference in the mean value of any two treatments')"
   ]
  },
  {
   "cell_type": "markdown",
   "metadata": {},
   "source": [
    "由于LSD临界值小于任意两种处理均值的差，故拒绝原假设，认为任意两种处理均值存在显著性差异。"
   ]
  },
  {
   "cell_type": "code",
   "execution_count": null,
   "metadata": {},
   "outputs": [],
   "source": []
  }
 ],
 "metadata": {
  "kernelspec": {
   "display_name": "Python 3",
   "language": "python",
   "name": "python3"
  },
  "language_info": {
   "codemirror_mode": {
    "name": "ipython",
    "version": 3
   },
   "file_extension": ".py",
   "mimetype": "text/x-python",
   "name": "python",
   "nbconvert_exporter": "python",
   "pygments_lexer": "ipython3",
   "version": "3.7.4"
  },
  "toc": {
   "base_numbering": 1,
   "nav_menu": {},
   "number_sections": true,
   "sideBar": true,
   "skip_h1_title": false,
   "title_cell": "Table of Contents",
   "title_sidebar": "Contents",
   "toc_cell": false,
   "toc_position": {},
   "toc_section_display": true,
   "toc_window_display": false
  },
  "varInspector": {
   "cols": {
    "lenName": 16,
    "lenType": 16,
    "lenVar": 40
   },
   "kernels_config": {
    "python": {
     "delete_cmd_postfix": "",
     "delete_cmd_prefix": "del ",
     "library": "var_list.py",
     "varRefreshCmd": "print(var_dic_list())"
    },
    "r": {
     "delete_cmd_postfix": ") ",
     "delete_cmd_prefix": "rm(",
     "library": "var_list.r",
     "varRefreshCmd": "cat(var_dic_list()) "
    }
   },
   "types_to_exclude": [
    "module",
    "function",
    "builtin_function_or_method",
    "instance",
    "_Feature"
   ],
   "window_display": false
  }
 },
 "nbformat": 4,
 "nbformat_minor": 2
}
