{
 "cells": [
  {
   "cell_type": "markdown",
   "metadata": {},
   "source": [
    "# Two-way ANOVA"
   ]
  },
  {
   "cell_type": "markdown",
   "metadata": {},
   "source": [
    "## 背景描述"
   ]
  },
  {
   "cell_type": "markdown",
   "metadata": {},
   "source": [
    "实验研究了操作温度和三种面板玻璃材料对示波器管输出光的影响。\n",
    "\n",
    "这是一个材料（因子𝐴）水平数 $𝑎=3$，温度（因子𝐵）水平数 $𝑏=3$ 和重复次数 $𝑛=3$ 的双因子实验。"
   ]
  },
  {
   "cell_type": "markdown",
   "metadata": {},
   "source": [
    "## 数据描述"
   ]
  },
  {
   "cell_type": "markdown",
   "metadata": {},
   "source": [
    "|         变量名         |   变量含义   |       变量类型       |  变量取值范围   |\n",
    "| :--------------------: | :----------: | :------------------: | :-------------: |\n",
    "|  （自变量）Glass_Type  | 玻璃材料类型 | categorical variable |    [1，2，3]    |\n",
    "| （自变量）Temperature  |     温度     | continuous variable  | [100, 125, 150] |\n",
    "| （因变量）Light_Output |    输出光    | continuous variable  |      Real       |"
   ]
  },
  {
   "cell_type": "markdown",
   "metadata": {},
   "source": [
    "## 问题"
   ]
  },
  {
   "cell_type": "markdown",
   "metadata": {},
   "source": [
    "注：这里使用 \\alpha=0.05 的显著性水平\n",
    "\n",
    "1. 试判断玻璃类型和温度对输出光是否有显著影响.\n",
    "2. 用适合的残差图来检验设定模型的恰当性.\n",
    "3. 选出一种玻璃类型 使得不论温度高低都能使示波器管的输出光较高.\n",
    "4. 估计参数$\\mu$、$\\tau_i$、$\\beta_j$和$(\\tau\\beta)_{ij}\\quad(i=1,...,a;j=1,...,b)$\n",
    "5. 如何对这种示波器管的输出光进行预测？"
   ]
  },
  {
   "cell_type": "markdown",
   "metadata": {},
   "source": [
    "## 解决方案"
   ]
  },
  {
   "cell_type": "markdown",
   "metadata": {},
   "source": [
    "**Q1:**  \n",
    "检验行处理效应的等式假设:  $𝐻_{01}:\\tau_1=\\tau_2=\\cdots=\\tau_a=0$  vs  $𝐻_{11}:\\tau_i \\neq 0, \\exists i$  \n",
    "检验列处理效应的等式假设:  $𝐻_{02}:\\beta_1=\\beta_2=\\cdots=\\beta_b=0$  vs  $𝐻_{12}:\\beta_j \\neq 0, \\exists j$  \n",
    "检验行与列处理没有交互作用假设:  $𝐻_{03}:(\\tau\\beta)_{ij}=0, \\forall i,j$  vs  $𝐻_{13}:(\\tau\\beta)_{ij} \\neq 0, \\exists i,j$  "
   ]
  },
  {
   "cell_type": "code",
   "execution_count": 1,
   "metadata": {},
   "outputs": [
    {
     "name": "stdout",
     "output_type": "stream",
     "text": [
      "   Glass  Temp  Light\n",
      "0      1   100    580\n",
      "1      1   100    568\n",
      "2      1   100    570\n",
      "3      2   100    550\n",
      "4      2   100    530\n",
      "\n",
      "双因素方差分析表：\n",
      "                     df        sum_sq      mean_sq          F  PR(>F)\n",
      "C(Glass)           2.0  1.508645e+05   75432.2593   206.3706     0.0\n",
      "C(Temp)            2.0  1.970335e+06  985167.2593  2695.2595     0.0\n",
      "C(Glass):C(Temp)   4.0  2.905517e+05   72637.9259   198.7257     0.0\n",
      "Residual          18.0  6.579333e+03     365.5185        NaN     NaN\n",
      "\n",
      "For material, p-value: 0.000000 < 0.05, reject H01.\n",
      "\n",
      "For temperature, p-value: 0.000000 < 0.05, reject H02.\n",
      "\n",
      "For material:temp, p-value: 0.000000 < 0.05, reject H03.\n"
     ]
    }
   ],
   "source": [
    "# Import standard packages\n",
    "import numpy as np\n",
    "import pandas as pd\n",
    "import scipy.stats as stats\n",
    "import matplotlib.pyplot as plt\n",
    "import math\n",
    "\n",
    "# Import additional packages\n",
    "from statsmodels.formula.api import ols\n",
    "from statsmodels.stats.anova import anova_lm\n",
    "from statsmodels.stats.multicomp import (pairwise_tukeyhsd, MultiComparison)\n",
    "\n",
    "alpha = 0.05\n",
    "a = 3\n",
    "b = 3\n",
    "n = 3\n",
    "\n",
    "x = pd.read_csv('data/Project3.csv')\n",
    "data = x.values\n",
    "df = pd.DataFrame(data, columns = ['Glass', 'Temp', 'Light'])\n",
    "print(df.head())\n",
    "\n",
    "# Do the two-way ANOVA\n",
    "model = ols('Light~ C(Glass) + C(Temp) + C(Glass):C(Temp)',df).fit()\n",
    "anova_results = round(anova_lm(model), 4)\n",
    "print('\\n双因素方差分析表：\\n', anova_results)\n",
    "\n",
    "if anova_results['PR(>F)'][0] < 0.05:\n",
    "    print('\\nFor material, p-value: %f < 0.05, reject H01.'% anova_results['PR(>F)'][0])\n",
    "else:\n",
    "    print('\\nFor material, accept H01.')\n",
    "\n",
    "if anova_results['PR(>F)'][1] < 0.05:\n",
    "    print('\\nFor temperature, p-value: %f < 0.05, reject H02.'% anova_results['PR(>F)'][1])\n",
    "else:\n",
    "    print('\\nFor temperature, accept H02.')\n",
    "    \n",
    "if anova_results['PR(>F)'][2] < 0.05:\n",
    "    print('\\nFor material:temp, p-value: %f < 0.05, reject H03.'% anova_results['PR(>F)'][2])\n",
    "else:\n",
    "    print('\\nFor material:temp, accept H03.')"
   ]
  },
  {
   "cell_type": "markdown",
   "metadata": {},
   "source": [
    "由上面的方差分析表可知，在$\\alpha=0.05$的水平下：  \n",
    "对面板玻璃材料来说，$p=0.0000<0.05$，所以面板玻璃材料对示波器管输出光有显著影响；  \n",
    "对温度来说，$p=0.0000<0.05$，所以温度对输出光也具有显著影响；  \n",
    "对板极材料和温度的交互因素来说，$p=0.0000<0.05$，所以两者交互因素对输出光也具有显著影响."
   ]
  },
  {
   "cell_type": "markdown",
   "metadata": {},
   "source": [
    "【多重比较】在双因子析因设计实验中，如果交互作用是显著的，一个因子（例如，因子 𝐴）的均值间的比较可能由于交互作用而模糊不清。解决这类问题的方法是：将另一个因子（因子 𝐵）固定在一特定水平上，在此水平上对因子 𝐴 的均值使用 Tukey 检验法。  \n",
    "由上面方差分析表可知，行均值、列均值和交互项均有显著性差异，所以下面我们进一步固定温度水平为 125℉，对 3 种材料进行多重比较，以Tukey的Honestly Significant Difference(HSD)检验法为例: "
   ]
  },
  {
   "cell_type": "code",
   "execution_count": 2,
   "metadata": {},
   "outputs": [
    {
     "name": "stdout",
     "output_type": "stream",
     "text": [
      "固定温度水平为 125℉: 三种材料之间的多重比较: \n",
      "  Multiple Comparison of Means - Tukey HSD, FWER=0.05  \n",
      "======================================================\n",
      "group1 group2 meandiff p-adj    lower    upper  reject\n",
      "------------------------------------------------------\n",
      "     1      2 -52.3333 0.0523 -105.2908  0.6241  False\n",
      "     1      3 -32.6667  0.221  -85.6241 20.2908  False\n",
      "     2      3  19.6667 0.5285  -33.2908 72.6241  False\n",
      "------------------------------------------------------\n",
      "\n",
      "\n"
     ]
    },
    {
     "data": {
      "image/png": "[encoded data removed]",
      "text/plain": [
       "<Figure size 720x432 with 1 Axes>"
      ]
     },
     "metadata": {
      "needs_background": "light"
     },
     "output_type": "display_data"
    }
   ],
   "source": [
    "# 使用Tukey HSD 检验法进行多重比较\n",
    "multiComp = MultiComparison(df.loc[df['Temp'] == 125, 'Light'], df.loc[df['Temp'] == 125, 'Glass'])\n",
    "tukey = multiComp.tukeyhsd()\n",
    "print('固定温度水平为 125℉: 三种材料之间的多重比较: \\n', tukey)\n",
    "\n",
    "tukey.plot_simultaneous(ylabel= 'Glass', xlabel= 'Light Difference')\n",
    "print('\\n')"
   ]
  },
  {
   "cell_type": "markdown",
   "metadata": {},
   "source": [
    "结果说明：  \n",
    "这一分析表明，当温度水平为 125℉ 时，三种材料下对应的输出光情况是相同的。下面分别固定温度为100与150，继续进行多重比较。"
   ]
  },
  {
   "cell_type": "code",
   "execution_count": 3,
   "metadata": {},
   "outputs": [
    {
     "name": "stdout",
     "output_type": "stream",
     "text": [
      "固定温度水平为 100℉: 三种材料之间的多重比较: \n",
      "  Multiple Comparison of Means - Tukey HSD, FWER=0.05 \n",
      "=====================================================\n",
      "group1 group2 meandiff p-adj   lower    upper  reject\n",
      "-----------------------------------------------------\n",
      "     1      2 -19.6667 0.5305 -72.8012 33.4678  False\n",
      "     1      3   0.6667    0.9 -52.4678 53.8012  False\n",
      "     2      3  20.3333 0.5103 -32.8012 73.4678  False\n",
      "-----------------------------------------------------\n",
      "\n",
      "\n"
     ]
    },
    {
     "data": {
      "image/png": "[encoded data removed]",
      "text/plain": [
       "<Figure size 720x432 with 1 Axes>"
      ]
     },
     "metadata": {
      "needs_background": "light"
     },
     "output_type": "display_data"
    }
   ],
   "source": [
    "# 使用Tukey HSD 检验法进行多重比较\n",
    "multiComp = MultiComparison(df.loc[df['Temp'] == 100, 'Light'], df.loc[df['Temp'] == 100, 'Glass'])\n",
    "tukey = multiComp.tukeyhsd()\n",
    "print('固定温度水平为 100℉: 三种材料之间的多重比较: \\n', tukey)\n",
    "\n",
    "tukey.plot_simultaneous(ylabel= 'Glass', xlabel= 'Light Difference')\n",
    "print('\\n')"
   ]
  },
  {
   "cell_type": "code",
   "execution_count": 4,
   "metadata": {},
   "outputs": [
    {
     "name": "stdout",
     "output_type": "stream",
     "text": [
      "固定温度水平为 150℉: 三种材料之间的多重比较: \n",
      "    Multiple Comparison of Means - Tukey HSD, FWER=0.05   \n",
      "=========================================================\n",
      "group1 group2  meandiff p-adj    lower     upper   reject\n",
      "---------------------------------------------------------\n",
      "     1      2     -73.0 0.0017 -108.1909  -37.8091   True\n",
      "     1      3 -499.3333  0.001 -534.5242 -464.1424   True\n",
      "     2      3 -426.3333  0.001 -461.5242 -391.1424   True\n",
      "---------------------------------------------------------\n",
      "\n",
      "\n"
     ]
    },
    {
     "data": {
      "image/png": "[encoded data removed]",
      "text/plain": [
       "<Figure size 720x432 with 1 Axes>"
      ]
     },
     "metadata": {
      "needs_background": "light"
     },
     "output_type": "display_data"
    }
   ],
   "source": [
    "# 使用Tukey HSD 检验法进行多重比较\n",
    "multiComp = MultiComparison(df.loc[df['Temp'] == 150, 'Light'], df.loc[df['Temp'] == 150, 'Glass'])\n",
    "tukey = multiComp.tukeyhsd()\n",
    "print('固定温度水平为 150℉: 三种材料之间的多重比较: \\n', tukey)\n",
    "\n",
    "tukey.plot_simultaneous(ylabel= 'Glass', xlabel= 'Light Difference')\n",
    "print('\\n')"
   ]
  },
  {
   "cell_type": "markdown",
   "metadata": {},
   "source": [
    "这样得出结论：高温下（150℉)三种材料输出光情况差异显著。而100℉与125℉均无差异。"
   ]
  },
  {
   "cell_type": "markdown",
   "metadata": {},
   "source": [
    "**Q2:**  \n",
    "检验设定模型的恰当性：  \n",
    "**残差分析0: 计算输出光数据的残差**"
   ]
  },
  {
   "cell_type": "code",
   "execution_count": 5,
   "metadata": {},
   "outputs": [
    {
     "name": "stdout",
     "output_type": "stream",
     "text": [
      "    Glass   Temp  Light_res\n",
      "0     1.0  100.0   7.333333\n",
      "1     1.0  100.0  -4.666667\n",
      "2     1.0  100.0  -2.666667\n",
      "3     2.0  100.0  -3.000000\n",
      "4     2.0  100.0 -23.000000\n",
      "5     2.0  100.0  26.000000\n",
      "6     3.0  100.0 -27.333333\n",
      "7     3.0  100.0   1.666667\n",
      "8     3.0  100.0  25.666667\n",
      "9     1.0  125.0   2.666667\n",
      "10    1.0  125.0  -0.333333\n",
      "11    1.0  125.0  -2.333333\n",
      "12    2.0  125.0  35.000000\n",
      "13    2.0  125.0   0.000000\n",
      "14    2.0  125.0 -35.000000\n",
      "15    3.0  125.0  -9.666667\n",
      "16    3.0  125.0  -1.666667\n",
      "17    3.0  125.0  11.333333\n",
      "18    1.0  150.0   6.000000\n",
      "19    1.0  150.0  -6.000000\n",
      "20    1.0  150.0   0.000000\n",
      "21    2.0  150.0  15.000000\n",
      "22    2.0  150.0  -1.000000\n",
      "23    2.0  150.0 -14.000000\n",
      "24    3.0  150.0 -19.666667\n",
      "25    3.0  150.0  17.333333\n",
      "26    3.0  150.0   2.333333\n"
     ]
    }
   ],
   "source": [
    "# 计算电池寿命数据的残差\n",
    "list_temp = [100, 125, 150]\n",
    "data_res = data.astype(float)\n",
    "# 循环不是必须更改\n",
    "for j in list_temp:\n",
    "    for i in range(a):\n",
    "        cnt = data[(data[:,0] == i + 1) & (data[:,1] == j),2]\n",
    "        data_res[(data_res[:,0] == i + 1) & (data_res[:,1] == j),2] = cnt-np.mean(cnt)\n",
    "df = pd.DataFrame(data_res, columns = ['Glass', 'Temp', 'Light_res'])\n",
    "print(df)"
   ]
  },
  {
   "cell_type": "markdown",
   "metadata": {},
   "source": [
    "**残差分析1: 残差的正态概率图** "
   ]
  },
  {
   "cell_type": "code",
   "execution_count": 6,
   "metadata": {},
   "outputs": [
    {
     "data": {
      "image/png": "[encoded data removed]",
      "text/plain": [
       "<Figure size 432x288 with 1 Axes>"
      ]
     },
     "metadata": {
      "needs_background": "light"
     },
     "output_type": "display_data"
    },
    {
     "name": "stdout",
     "output_type": "stream",
     "text": [
      "[-35.         -27.33333333 -23.         -19.66666667 -14.\n",
      "  -9.66666667  -6.          -4.66666667  -3.          -2.66666667\n",
      "  -2.33333333  -1.66666667  -1.          -0.33333333   0.\n",
      "   0.           1.66666667   2.33333333   2.66666667   6.\n",
      "   7.33333333  11.33333333  15.          17.33333333  25.66666667\n",
      "  26.          35.        ]\n"
     ]
    }
   ],
   "source": [
    "# 残差的正态概率图\n",
    "res = data_res[:, 2]\n",
    "osm, osr = stats.probplot(res, dist = 'norm', plot = plt)\n",
    "x = osm[0][0]\n",
    "y = osm[1][0]\n",
    "plt.text(x, y, '%.2f' % float(y), ha='center', va= 'bottom', fontsize=9)\n",
    "x2 = osm[0][-1]\n",
    "y2 = osm[1][-1]\n",
    "plt.text(x2, y2, '%.2f' % float(y2), ha = 'center', va = 'bottom',fontsize = 9)\n",
    "plt.grid()\n",
    "plt.show()\n",
    "\n",
    "print(osm[1])"
   ]
  },
  {
   "cell_type": "code",
   "execution_count": 7,
   "metadata": {},
   "outputs": [
    {
     "name": "stdout",
     "output_type": "stream",
     "text": [
      "MSE为 365.5185185185185\n"
     ]
    }
   ],
   "source": [
    "# 计算MSE\n",
    "sse = 0\n",
    "for r in data_res[:,2]:\n",
    "    sse += r**2\n",
    "mse = sse/(a*b*(n-1))\n",
    "print('MSE为',mse)"
   ]
  },
  {
   "cell_type": "markdown",
   "metadata": {},
   "source": [
    "无特别的证据说明违背数据正态性；\n",
    "异常值的检测：\n",
    "$35/\\sqrt{365.52}=1.83<2$\n",
    "\n",
    "说明无明显的异常值，说明残差是服从正态分布的。  \n",
    "  \n",
    "(计算标准化残差：$d_{ij} = \\frac{e_{ij}}{\\sqrt{MS_E}}$。一般地，标准化残差约 68% 落在 ±1 之内，约 95% 落在 ±2 之内，几乎全部落在 ±3 之内。标准化残差的绝对值大于3的残差是一个可能的异常值。)"
   ]
  },
  {
   "cell_type": "code",
   "execution_count": 8,
   "metadata": {},
   "outputs": [
    {
     "name": "stdout",
     "output_type": "stream",
     "text": [
      "0.97\n",
      "0.52\n",
      "\n",
      "Accept the null hypothesis.\n"
     ]
    }
   ],
   "source": [
    "# 用Shapiro-Wilk检验进行正态性检验\n",
    "SW, pVal = stats.shapiro(res)\n",
    "print(round(SW, 2))\n",
    "print(round(pVal, 2))\n",
    "\n",
    "if pVal > alpha:\n",
    "    print('\\nAccept the null hypothesis.')\n",
    "else:\n",
    "    print('\\nSince p-value > 0.05, reject the null hypothesis') "
   ]
  },
  {
   "cell_type": "markdown",
   "metadata": {},
   "source": [
    "由上述分析可知，统计量为 0.97，接近 1；且P值为 0.52，大于指定的显著性水平 0.05。故认为残差来自服从正态分布的总体。"
   ]
  },
  {
   "cell_type": "markdown",
   "metadata": {},
   "source": [
    "**残差分析2: 残差与预测值的关系图**  "
   ]
  },
  {
   "cell_type": "code",
   "execution_count": 9,
   "metadata": {},
   "outputs": [
    {
     "name": "stdout",
     "output_type": "stream",
     "text": [
      "[572.6666666666666, 572.6666666666666, 572.6666666666666, 553.0, 553.0, 553.0, 573.3333333333334, 573.3333333333334, 573.3333333333334, 1087.3333333333333, 1087.3333333333333, 1087.3333333333333, 1035.0, 1035.0, 1035.0, 1054.6666666666667, 1054.6666666666667, 1054.6666666666667, 1386.0, 1386.0, 1386.0, 1313.0, 1313.0, 1313.0, 886.6666666666666, 886.6666666666666, 886.6666666666666]\n"
     ]
    }
   ],
   "source": [
    "# 残差与预测值的关系图\n",
    "y2 = []\n",
    "# !!观察原始数据 这个嵌套循环必须改\n",
    "for j in list_temp:\n",
    "    for i in range(a):\n",
    "        for k in range(n):\n",
    "            y2.append(np.mean(data[(data[:,0] == i + 1) & (data[:,1] == j), 2]))\n",
    "print(y2)"
   ]
  },
  {
   "cell_type": "code",
   "execution_count": 10,
   "metadata": {},
   "outputs": [
    {
     "data": {
      "text/plain": [
       "Text(0, 0.5, 'e_ijk')"
      ]
     },
     "execution_count": 10,
     "metadata": {},
     "output_type": "execute_result"
    },
    {
     "data": {
      "image/png": "[encoded data removed]",
      "text/plain": [
       "<Figure size 432x288 with 1 Axes>"
      ]
     },
     "metadata": {
      "needs_background": "light"
     },
     "output_type": "display_data"
    }
   ],
   "source": [
    "plt.scatter(y2, res, c = 'red')\n",
    "plt.text(y2[12], res[12], '%.2f' % float(res[12]), ha='center', va= 'bottom', fontsize=9)\n",
    "plt.text(y2[12], res[14], '%.2f' % float(res[14]), ha='center', va= 'bottom', fontsize=9)\n",
    "plt.title('Plot of residuals versus y_ijk')\n",
    "plt.xlabel('y_ijk')\n",
    "plt.ylabel('e_ijk')"
   ]
  },
  {
   "cell_type": "markdown",
   "metadata": {},
   "source": [
    "由上图可以看出，当输出光增高时，残差方差并无显著变化趋势，有轻微的增长。"
   ]
  },
  {
   "cell_type": "markdown",
   "metadata": {},
   "source": [
    "**残差分析3：残差与材料的关系图** "
   ]
  },
  {
   "cell_type": "code",
   "execution_count": 11,
   "metadata": {},
   "outputs": [
    {
     "data": {
      "text/plain": [
       "Text(0, 0.5, 'e_ijk')"
      ]
     },
     "execution_count": 11,
     "metadata": {},
     "output_type": "execute_result"
    },
    {
     "data": {
      "image/png": "[encoded data removed]",
      "text/plain": [
       "<Figure size 432x288 with 1 Axes>"
      ]
     },
     "metadata": {
      "needs_background": "light"
     },
     "output_type": "display_data"
    }
   ],
   "source": [
    "# 残差对材料种类的关系图\n",
    "y3 = data_res[:,0]\n",
    "plt.scatter(y3, res, c = 'red')\n",
    "plt.title('Plot of residuals versus material type')\n",
    "plt.xlabel('Glass type')\n",
    "plt.ylabel('e_ijk')"
   ]
  },
  {
   "cell_type": "markdown",
   "metadata": {},
   "source": [
    "上图显示出方差明显的不等性：材料类型为第一种时，比其他情况下方差小。"
   ]
  },
  {
   "cell_type": "markdown",
   "metadata": {},
   "source": [
    "**残差分析4：残差与温度的关系图** "
   ]
  },
  {
   "cell_type": "code",
   "execution_count": 12,
   "metadata": {},
   "outputs": [
    {
     "data": {
      "text/plain": [
       "Text(0, 0.5, 'e_ijk')"
      ]
     },
     "execution_count": 12,
     "metadata": {},
     "output_type": "execute_result"
    },
    {
     "data": {
      "image/png": "[encoded data removed]",
      "text/plain": [
       "<Figure size 432x288 with 1 Axes>"
      ]
     },
     "metadata": {
      "needs_background": "light"
     },
     "output_type": "display_data"
    }
   ],
   "source": [
    "# 残差对温度的关系图\n",
    "y4 = data_res[:,1]\n",
    "plt.scatter(y4, res, c = 'red')\n",
    "plt.title('Plot of residuals versus temperature')\n",
    "plt.xlabel('Temperature (°F)')\n",
    "plt.ylabel('e_ijk')"
   ]
  },
  {
   "cell_type": "markdown",
   "metadata": {},
   "source": [
    "上图显示出方差微弱的不等性：温度为 125℉ 时，比其他情况下方差大。"
   ]
  },
  {
   "cell_type": "markdown",
   "metadata": {},
   "source": [
    "在 125℉ 的温度-材料类型2 这一单元中，包含了两个极端残差值（-35.00 与 35.00）。这两个残差值对于后面三张图检验出的方差不等起了主要作用。重新审查这些数据，并未显出任何明显的问题，比如记录错误等，所有我们把这些响应作为真实数据接收下来。"
   ]
  },
  {
   "cell_type": "markdown",
   "metadata": {},
   "source": [
    "**Q3:**  \n",
    "为了选出一种材料，使得不论温度高低与否都能使输出光强度较高，我们进行固定效应模型分析。"
   ]
  },
  {
   "cell_type": "code",
   "execution_count": 13,
   "metadata": {},
   "outputs": [
    {
     "name": "stdout",
     "output_type": "stream",
     "text": [
      "    Glass  Temperature    Light_avg\n",
      "0     1.0        100.0   572.666667\n",
      "1     1.0        100.0   572.666667\n",
      "2     1.0        100.0   572.666667\n",
      "3     2.0        100.0   553.000000\n",
      "4     2.0        100.0   553.000000\n",
      "5     2.0        100.0   553.000000\n",
      "6     3.0        100.0   573.333333\n",
      "7     3.0        100.0   573.333333\n",
      "8     3.0        100.0   573.333333\n",
      "9     1.0        125.0  1087.333333\n",
      "10    1.0        125.0  1087.333333\n",
      "11    1.0        125.0  1087.333333\n",
      "12    2.0        125.0  1035.000000\n",
      "13    2.0        125.0  1035.000000\n",
      "14    2.0        125.0  1035.000000\n",
      "15    3.0        125.0  1054.666667\n",
      "16    3.0        125.0  1054.666667\n",
      "17    3.0        125.0  1054.666667\n",
      "18    1.0        150.0  1386.000000\n",
      "19    1.0        150.0  1386.000000\n",
      "20    1.0        150.0  1386.000000\n",
      "21    2.0        150.0  1313.000000\n",
      "22    2.0        150.0  1313.000000\n",
      "23    2.0        150.0  1313.000000\n",
      "24    3.0        150.0   886.666667\n",
      "25    3.0        150.0   886.666667\n",
      "26    3.0        150.0   886.666667\n"
     ]
    }
   ],
   "source": [
    "# 固定效应模型分析\n",
    "data_avg = data.astype(float) * 1\n",
    "# 循环不必须改\n",
    "for j in list_temp:\n",
    "    for i in range(a):\n",
    "        cnt = data[(data[:,0] == i + 1) & (data[:,1] == j),2]\n",
    "        data_avg[(data_avg[:,0] == i + 1) & (data_avg[:,1] == j),2] = np.mean(cnt)\n",
    "df = pd.DataFrame(data_avg, columns = ['Glass', 'Temperature', 'Light_avg'])\n",
    "print(df)"
   ]
  },
  {
   "cell_type": "code",
   "execution_count": 14,
   "metadata": {},
   "outputs": [
    {
     "data": {
      "text/plain": [
       "<matplotlib.legend.Legend at 0x236eb136408>"
      ]
     },
     "execution_count": 14,
     "metadata": {},
     "output_type": "execute_result"
    },
    {
     "data": {
      "image/png": "[encoded data removed]",
      "text/plain": [
       "<Figure size 432x288 with 1 Axes>"
      ]
     },
     "metadata": {
      "needs_background": "light"
     },
     "output_type": "display_data"
    }
   ],
   "source": [
    "type1 = data_avg[[0,9,18], 2]\n",
    "type2 = data_avg[[3,12,21], 2]\n",
    "type3 = data_avg[[6,15,24], 2]\n",
    "c1 = pd.Series(type1, index = list_temp, name = 'type1')\n",
    "c2 = pd.Series(type2, index = list_temp, name = 'type2')\n",
    "c3 = pd.Series(type3, index = list_temp, name = 'type3')\n",
    "df = pd.concat([c1, c2, c3], axis = 1)\n",
    "\n",
    "plt.plot(df.iloc[:,0], color = 'red', marker = 'o', label = 'type1')\n",
    "plt.plot(df.iloc[:,1], color = 'green', marker = 'o', label = 'type2')\n",
    "plt.plot(df.iloc[:,2], marker = 'o', label = 'type3')\n",
    "plt.title('Glass type–temperature plot')\n",
    "plt.xlabel('Temperature (°F)')\n",
    "plt.ylabel('Light Output')\n",
    "plt.legend(['type1', 'type2', 'type3'])"
   ]
  },
  {
   "cell_type": "markdown",
   "metadata": {},
   "source": [
    "上图绘制了每一种处理组合的平均响应图，在从较低温到中等温度时，三种材料对应的输出光都增高，但从中等温度到高温时，材料3输出光降低，而另外两种材料依然升高，且材料1输出光更强，因此不论温度高低都能使示波器管的输出光较高的材料应选取材料1."
   ]
  },
  {
   "cell_type": "markdown",
   "metadata": {},
   "source": [
    "**Q4:**  \n",
    "估计参数$\\mu$、$\\tau_i$、$\\beta_j$和$(\\tau\\beta)_{ij}\\quad(i=1,...,a;j=1,...,b)$  \n",
    "$\\hat{\\mu}=\\bar{y}_{\\cdots}$  \n",
    "$\\hat{\\tau_i}=\\bar{y}_{i\\cdot\\cdot}-\\bar{y}_{\\cdots},\\quad i = 1,2,\\cdots,a$  \n",
    "$\\hat{\\beta_j}=\\bar{y}_{\\cdot j\\cdot}-\\bar{y}_{\\cdots},\\quad j = 1,2,\\cdots,b$  \n",
    "$\\hat{\\tau\\beta}_{ij}=\\bar{y}_{ij\\cdot}-\\bar{y}_{i\\cdot\\cdot}-\\bar{y}_{\\cdot j\\cdot}+\\bar{y}_{\\cdots},\\quad i = 1,2,\\cdots,a\\quad j = 1,2,\\cdots,b$"
   ]
  },
  {
   "cell_type": "code",
   "execution_count": 15,
   "metadata": {},
   "outputs": [
    {
     "name": "stdout",
     "output_type": "stream",
     "text": [
      "总平均效应： 940.19\n",
      "材料因子的水平效应：\n",
      " [  75.15   26.81 -101.96]\n",
      "温度因子的水平效应：\n",
      " [-373.85  118.81  255.04]\n",
      "两因子之间的交互作用效应：\n",
      " [[1811.56 1833.56 1996.  ]\n",
      " [1840.22 1829.56 1971.33]\n",
      " [1989.33 1978.   1673.78]]\n"
     ]
    }
   ],
   "source": [
    "# 参数估计\n",
    "mu = np.mean(data[:,2])\n",
    "print('总平均效应：', round(mu, 2))\n",
    "\n",
    "tau = []\n",
    "for i in range(a):\n",
    "    tau.append(np.mean(data[data[:,0] == i + 1, 2]) - mu)\n",
    "print('材料因子的水平效应：\\n', np.round(tau, 2))\n",
    "\n",
    "beta = []\n",
    "for j in list_temp:\n",
    "    beta.append(np.mean(data[data[:,1] == j, 2]) - mu)\n",
    "print('温度因子的水平效应：\\n', np.round(beta, 2))\n",
    "\n",
    "tau_beta = []\n",
    "for i in range(a):\n",
    "    tau_beta.append([])\n",
    "    for j in range(b):\n",
    "        cnt = data_avg[3 * i + 9 * j, 2] - tau[i] - beta[j] + mu\n",
    "        tau_beta[i].append(cnt)\n",
    "# 待填入的效应下标顺序为11、12、13、21....\n",
    "print('两因子之间的交互作用效应：\\n', np.round(tau_beta, 2))"
   ]
  },
  {
   "cell_type": "markdown",
   "metadata": {},
   "source": [
    "**Q5:**  \n",
    "由于温度是定量的，而材料类型是定性的。再者，温度有 3 个水平。因此，我们可计算线性的和二次的温度效应，以便研究温度怎样影响输出光。  \n",
    "这里我们画出响应曲线（response curve）可以得到响应变量与定量因子——温度的关系。一般地，线性回归方法可用于为实验数据拟合相应的模型。  \n",
    "$Light = \\beta_0+\\beta_1A+\\beta_2B_1+\\beta_3B_2+\\beta_4A^2+\\beta_5AB_1+\\beta_6AB_2+\\beta_7A^2B_1+\\beta_8A^2B_2$  \n",
    "其中，分量 $A, A^2$ 分别表示温度因子的一次效应、二次效应，$B$ 表示材料类型因子的主效应。由于温度为低、中、高水平(100℉， 125℉ ， 150℉ )，对应的温度水平分别为 $A=-1，0，+1$。变量 $B[1]$ 和 $B[2]$ 被认为是示性变量（indicator variable），其定义为:  \n",
    "\n",
    "|  | 1 | 2 | 3 |  \n",
    "| :--------: | :--------: | :--------: | :---------: |  \n",
    "| $B[1]$ |   1   |   0   |   -1   |  \n",
    "| $B[2]$ |   0   |   1   |   -1   |"
   ]
  },
  {
   "cell_type": "code",
   "execution_count": 16,
   "metadata": {},
   "outputs": [
    {
     "name": "stdout",
     "output_type": "stream",
     "text": [
      "   A  B1  B2  AA  AB1  AB2  AAB1  AAB2  Life\n",
      "0 -1   1   0   1   -1    0     1     0   580\n",
      "1 -1   1   0   1   -1    0     1     0   568\n",
      "2 -1   1   0   1   -1    0     1     0   570\n",
      "3 -1   0   1   1    0   -1     0     1   550\n",
      "4 -1   0   1   1    0   -1     0     1   530\n"
     ]
    },
    {
     "data": {
      "text/html": [
       "<table class=\"simpletable\">\n",
       "<caption>OLS Regression Results</caption>\n",
       "<tr>\n",
       "  <th>Dep. Variable:</th>          <td>Life</td>       <th>  R-squared:         </th> <td>   0.997</td>\n",
       "</tr>\n",
       "<tr>\n",
       "  <th>Model:</th>                   <td>OLS</td>       <th>  Adj. R-squared:    </th> <td>   0.996</td>\n",
       "</tr>\n",
       "<tr>\n",
       "  <th>Method:</th>             <td>Least Squares</td>  <th>  F-statistic:       </th> <td>   824.8</td>\n",
       "</tr>\n",
       "<tr>\n",
       "  <th>Date:</th>             <td>Wed, 17 Mar 2021</td> <th>  Prob (F-statistic):</th> <td>1.78e-21</td>\n",
       "</tr>\n",
       "<tr>\n",
       "  <th>Time:</th>                 <td>19:24:37</td>     <th>  Log-Likelihood:    </th> <td> -112.51</td>\n",
       "</tr>\n",
       "<tr>\n",
       "  <th>No. Observations:</th>      <td>    27</td>      <th>  AIC:               </th> <td>   243.0</td>\n",
       "</tr>\n",
       "<tr>\n",
       "  <th>Df Residuals:</th>          <td>    18</td>      <th>  BIC:               </th> <td>   254.7</td>\n",
       "</tr>\n",
       "<tr>\n",
       "  <th>Df Model:</th>              <td>     8</td>      <th>                     </th>     <td> </td>   \n",
       "</tr>\n",
       "<tr>\n",
       "  <th>Covariance Type:</th>      <td>nonrobust</td>    <th>                     </th>     <td> </td>   \n",
       "</tr>\n",
       "</table>\n",
       "<table class=\"simpletable\">\n",
       "<tr>\n",
       "      <td></td>         <th>coef</th>     <th>std err</th>      <th>t</th>      <th>P>|t|</th>  <th>[0.025</th>    <th>0.975]</th>  \n",
       "</tr>\n",
       "<tr>\n",
       "  <th>Intercept</th> <td> 1059.0000</td> <td>    6.373</td> <td>  166.174</td> <td> 0.000</td> <td> 1045.611</td> <td> 1072.389</td>\n",
       "</tr>\n",
       "<tr>\n",
       "  <th>A</th>         <td>  314.4444</td> <td>    4.506</td> <td>   69.779</td> <td> 0.000</td> <td>  304.977</td> <td>  323.912</td>\n",
       "</tr>\n",
       "<tr>\n",
       "  <th>B1</th>        <td>   28.3333</td> <td>    9.013</td> <td>    3.144</td> <td> 0.006</td> <td>    9.399</td> <td>   47.268</td>\n",
       "</tr>\n",
       "<tr>\n",
       "  <th>B2</th>        <td>  -24.0000</td> <td>    9.013</td> <td>   -2.663</td> <td> 0.016</td> <td>  -42.935</td> <td>   -5.065</td>\n",
       "</tr>\n",
       "<tr>\n",
       "  <th>AA</th>        <td> -178.2222</td> <td>    7.805</td> <td>  -22.834</td> <td> 0.000</td> <td> -194.620</td> <td> -161.824</td>\n",
       "</tr>\n",
       "<tr>\n",
       "  <th>AB1</th>       <td>   92.2222</td> <td>    6.373</td> <td>   14.471</td> <td> 0.000</td> <td>   78.833</td> <td>  105.611</td>\n",
       "</tr>\n",
       "<tr>\n",
       "  <th>AB2</th>       <td>   65.5556</td> <td>    6.373</td> <td>   10.287</td> <td> 0.000</td> <td>   52.167</td> <td>   78.944</td>\n",
       "</tr>\n",
       "<tr>\n",
       "  <th>AAB1</th>      <td>   70.2222</td> <td>   11.038</td> <td>    6.362</td> <td> 0.000</td> <td>   47.032</td> <td>   93.412</td>\n",
       "</tr>\n",
       "<tr>\n",
       "  <th>AAB2</th>      <td>   76.2222</td> <td>   11.038</td> <td>    6.905</td> <td> 0.000</td> <td>   53.032</td> <td>   99.412</td>\n",
       "</tr>\n",
       "</table>\n",
       "<table class=\"simpletable\">\n",
       "<tr>\n",
       "  <th>Omnibus:</th>       <td> 0.570</td> <th>  Durbin-Watson:     </th> <td>   2.273</td>\n",
       "</tr>\n",
       "<tr>\n",
       "  <th>Prob(Omnibus):</th> <td> 0.752</td> <th>  Jarque-Bera (JB):  </th> <td>   0.035</td>\n",
       "</tr>\n",
       "<tr>\n",
       "  <th>Skew:</th>          <td> 0.009</td> <th>  Prob(JB):          </th> <td>   0.983</td>\n",
       "</tr>\n",
       "<tr>\n",
       "  <th>Kurtosis:</th>      <td> 3.175</td> <th>  Cond. No.          </th> <td>    5.59</td>\n",
       "</tr>\n",
       "</table><br/><br/>Warnings:<br/>[1] Standard Errors assume that the covariance matrix of the errors is correctly specified."
      ],
      "text/plain": [
       "<class 'statsmodels.iolib.summary.Summary'>\n",
       "\"\"\"\n",
       "                            OLS Regression Results                            \n",
       "==============================================================================\n",
       "Dep. Variable:                   Life   R-squared:                       0.997\n",
       "Model:                            OLS   Adj. R-squared:                  0.996\n",
       "Method:                 Least Squares   F-statistic:                     824.8\n",
       "Date:                Wed, 17 Mar 2021   Prob (F-statistic):           1.78e-21\n",
       "Time:                        19:24:37   Log-Likelihood:                -112.51\n",
       "No. Observations:                  27   AIC:                             243.0\n",
       "Df Residuals:                      18   BIC:                             254.7\n",
       "Df Model:                           8                                         \n",
       "Covariance Type:            nonrobust                                         \n",
       "==============================================================================\n",
       "                 coef    std err          t      P>|t|      [0.025      0.975]\n",
       "------------------------------------------------------------------------------\n",
       "Intercept   1059.0000      6.373    166.174      0.000    1045.611    1072.389\n",
       "A            314.4444      4.506     69.779      0.000     304.977     323.912\n",
       "B1            28.3333      9.013      3.144      0.006       9.399      47.268\n",
       "B2           -24.0000      9.013     -2.663      0.016     -42.935      -5.065\n",
       "AA          -178.2222      7.805    -22.834      0.000    -194.620    -161.824\n",
       "AB1           92.2222      6.373     14.471      0.000      78.833     105.611\n",
       "AB2           65.5556      6.373     10.287      0.000      52.167      78.944\n",
       "AAB1          70.2222     11.038      6.362      0.000      47.032      93.412\n",
       "AAB2          76.2222     11.038      6.905      0.000      53.032      99.412\n",
       "==============================================================================\n",
       "Omnibus:                        0.570   Durbin-Watson:                   2.273\n",
       "Prob(Omnibus):                  0.752   Jarque-Bera (JB):                0.035\n",
       "Skew:                           0.009   Prob(JB):                        0.983\n",
       "Kurtosis:                       3.175   Cond. No.                         5.59\n",
       "==============================================================================\n",
       "\n",
       "Warnings:\n",
       "[1] Standard Errors assume that the covariance matrix of the errors is correctly specified.\n",
       "\"\"\""
      ]
     },
     "execution_count": 16,
     "metadata": {},
     "output_type": "execute_result"
    }
   ],
   "source": [
    "# 构造这 8 个变量\n",
    "list_A = [-1, 0, 1]\n",
    "list_B1 = [1, 0, -1]\n",
    "list_B2 = [0, 1, -1]\n",
    "A = data[:,1] * 1\n",
    "B1 = B2 = data[:, 0]\n",
    "for i in range(3):\n",
    "    A = [list_A[i] if j == list_temp[i] else j for j in A]\n",
    "    B1 = [list_B1[i] if j == i + 1 else j for j in B1]\n",
    "    B2 = [list_B2[i] if j == i + 1 else j for j in B2]\n",
    "AA = [A[k] ** 2 for k in range(len(A))]\n",
    "AB1 = [A[k] * B1[k] for k in range(len(A))]\n",
    "AB2 = [A[k] * B2[k] for k in range(len(A))]\n",
    "AAB1 = [AA[k] * B1[k] for k in range(len(A))]\n",
    "AAB2 = [AA[k] * B2[k] for k in range(len(A))]\n",
    "df = pd.DataFrame(A, columns = ['A'])\n",
    "df['B1'] = B1\n",
    "df['B2'] = B2\n",
    "df['AA'] = AA\n",
    "df['AB1'] = AB1\n",
    "df['AB2'] = AB2\n",
    "df['AAB1'] = AAB1\n",
    "df['AAB2'] = AAB2\n",
    "df['Life'] = data[:,2]\n",
    "print(df.head())\n",
    "\n",
    "# 训练模型\n",
    "model = ols('Life~ A + B1 + B2 + AA + AB1 + AB2 + AAB1 + AAB2',df).fit()\n",
    "param = model.params\n",
    "model.summary()"
   ]
  },
  {
   "cell_type": "markdown",
   "metadata": {},
   "source": [
    "$Light = +1059+314.44 *A+28.33 *B[1]-24 *B[2]-178.22 *A^2+92.22 *AB[1]+65.56 *AB[2]+70.22 *A^2B[1]+76.22A^2B[2]$"
   ]
  },
  {
   "cell_type": "markdown",
   "metadata": {},
   "source": [
    "观察p值，均小于0.05，因此这些参数都是显著的。"
   ]
  },
  {
   "cell_type": "code",
   "execution_count": 17,
   "metadata": {},
   "outputs": [
    {
     "data": {
      "text/plain": [
       "<matplotlib.legend.Legend at 0x236eae05948>"
      ]
     },
     "execution_count": 17,
     "metadata": {},
     "output_type": "execute_result"
    },
    {
     "data": {
      "image/png": "[encoded data removed]",
      "text/plain": [
       "<Figure size 432x288 with 1 Axes>"
      ]
     },
     "metadata": {
      "needs_background": "light"
     },
     "output_type": "display_data"
    }
   ],
   "source": [
    "# 拟合响应曲线\n",
    "temp = np.linspace(-1, 1)\n",
    "life_type1 = param[0] + param[1] * temp + param[2] * list_B1[0] + param[3] * list_B2[0] + param[4] * (temp ** 2) + param[5] * temp * list_B1[0] + param[6] * temp * list_B2[0] + param[7] * (temp ** 2) * list_B1[0] + param[8] * (temp ** 2) * list_B2[0]\n",
    "life_type2 = param[0] + param[1] * temp + param[2] * list_B1[1] + param[3] * list_B2[1] + param[4] * (temp ** 2) + param[5] * temp * list_B1[1] + param[6] * temp * list_B2[1] + param[7] * (temp ** 2) * list_B1[1] + param[8] * (temp ** 2) * list_B2[1]\n",
    "life_type3 = param[0] + param[1] * temp + param[2] * list_B1[2] + param[3] * list_B2[2] + param[4] * (temp ** 2) + param[5] * temp * list_B1[2] + param[6] * temp * list_B2[2] + param[7] * (temp ** 2) * list_B1[2] + param[8] * (temp ** 2) * list_B2[2]\n",
    "\n",
    "c1 = pd.Series(life_type1, index = temp, name = 'type1')\n",
    "c2 = pd.Series(life_type2, index = temp, name = 'type2')\n",
    "c3 = pd.Series(life_type3, index = temp, name = 'type3')\n",
    "df = pd.concat([c1, c2, c3], axis = 1)\n",
    "\n",
    "plt.plot(df.iloc[:,0], color = 'red', label = 'type1')\n",
    "plt.plot(df.iloc[:,1], color = 'green', label = 'type2')\n",
    "plt.plot(df.iloc[:,2], label = 'type3')\n",
    "plt.xlabel('Temperature (°F)')\n",
    "plt.ylabel('Light')\n",
    "plt.legend(['type1', 'type2', 'type3'])"
   ]
  },
  {
   "cell_type": "markdown",
   "metadata": {},
   "source": [
    "拟合曲线[-1, 1]：  \n",
    "材料类型为 1：  \n",
    "$y =1087.33 + 406.66 ∗ Temp - 108 ∗ Temp^2 $  \n",
    "材料类型为 2：  \n",
    "$y = 1035 + 380 ∗ Temp − 102 ∗ Temp^2$  \n",
    "材料类型为 3：  \n",
    "$y = 1054.67 + 156.66 ∗ Temp − 324.66 ∗ Temp^2$  \n",
    "\n",
    "上图显示了这 3 个预测公式声称的响应曲线。"
   ]
  },
  {
   "cell_type": "code",
   "execution_count": null,
   "metadata": {},
   "outputs": [],
   "source": []
  }
 ],
 "metadata": {
  "kernelspec": {
   "display_name": "Python 3",
   "language": "python",
   "name": "python3"
  },
  "language_info": {
   "codemirror_mode": {
    "name": "ipython",
    "version": 3
   },
   "file_extension": ".py",
   "mimetype": "text/x-python",
   "name": "python",
   "nbconvert_exporter": "python",
   "pygments_lexer": "ipython3",
   "version": "3.7.4"
  },
  "toc": {
   "base_numbering": 1,
   "nav_menu": {},
   "number_sections": true,
   "sideBar": true,
   "skip_h1_title": false,
   "title_cell": "Table of Contents",
   "title_sidebar": "Contents",
   "toc_cell": false,
   "toc_position": {},
   "toc_section_display": true,
   "toc_window_display": false
  },
  "varInspector": {
   "cols": {
    "lenName": 16,
    "lenType": 16,
    "lenVar": 40
   },
   "kernels_config": {
    "python": {
     "delete_cmd_postfix": "",
     "delete_cmd_prefix": "del ",
     "library": "var_list.py",
     "varRefreshCmd": "print(var_dic_list())"
    },
    "r": {
     "delete_cmd_postfix": ") ",
     "delete_cmd_prefix": "rm(",
     "library": "var_list.r",
     "varRefreshCmd": "cat(var_dic_list()) "
    }
   },
   "types_to_exclude": [
    "module",
    "function",
    "builtin_function_or_method",
    "instance",
    "_Feature"
   ],
   "window_display": false
  }
 },
 "nbformat": 4,
 "nbformat_minor": 2
}
