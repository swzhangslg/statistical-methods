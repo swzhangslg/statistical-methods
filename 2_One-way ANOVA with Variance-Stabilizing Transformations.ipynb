{
 "cells": [
  {
   "cell_type": "markdown",
   "metadata": {},
   "source": [
    "# One-way ANOVA with Variance-Stabilizing Transformations"
   ]
  },
  {
   "cell_type": "markdown",
   "metadata": {},
   "source": [
    "## 背景描述\n",
    "\n",
    "这里对五种绝缘材料的性能进行实验研究。我们在升高电压的情况下对每种材料的四个样本进行测试，以加速失效时间。\n",
    "这是一个因子水平数 𝑎 = 5 和重复次数 𝑛 = 4 的单因子实验。"
   ]
  },
  {
   "cell_type": "markdown",
   "metadata": {},
   "source": [
    "## 数据描述\n",
    "\n",
    "|         变量名         |   变量含义   |             变量类型              |  变量取值范围   |\n",
    "| :--------------------: | :----------: | :-------------------------------: | :-------------: |\n",
    "|   （自变量）Material   | 绝缘材料类型 |       categorical variable        | [1, 2, 3, 4, 5] |\n",
    "| （因变量）Failure Time |   失效时间   | continuous variable（单位：分钟） |      Real       |\n",
    "\n"
   ]
  },
  {
   "cell_type": "markdown",
   "metadata": {},
   "source": [
    "## 问题 \n",
    "\n",
    "注：这里使用 \\alpha=0.05 的显著性水平\n",
    "\n",
    "1. 试判断 5 种绝缘材料的性能是否存在差异.\n",
    "2. 试判断该实验数据是否满足方差齐性.\n",
    "3. 若实验中的数据不满足方差齐性，试判断失效时间如何进行方差稳定化变换.\n",
    "4. 如果需要变换，基于变换后的数据，试判断 5 种绝缘材料的性能是否存在差异."
   ]
  },
  {
   "cell_type": "markdown",
   "metadata": {},
   "source": [
    "## 解决方案"
   ]
  },
  {
   "cell_type": "markdown",
   "metadata": {},
   "source": [
    "**Q1:**  \n",
    "检验假设 $H_0: \\mu_1 = \\mu_2 = \\mu_3 = \\mu_4 = \\mu_5$ ;  $H_1: \\mu_1, \\mu_2, \\mu_3, \\mu_4, \\mu_5$不全相等"
   ]
  },
  {
   "cell_type": "code",
   "execution_count": 1,
   "metadata": {},
   "outputs": [
    {
     "name": "stdout",
     "output_type": "stream",
     "text": [
      "[[    1   110]\n",
      " [    1   157]\n",
      " [    1   194]\n",
      " [    1   178]\n",
      " [    2     1]\n",
      " [    2     2]\n",
      " [    2     4]\n",
      " [    2    18]\n",
      " [    3   880]\n",
      " [    3  1256]\n",
      " [    3  5276]\n",
      " [    3  4355]\n",
      " [    4   495]\n",
      " [    4  7040]\n",
      " [    4  5307]\n",
      " [    4 10050]\n",
      " [    5     7]\n",
      " [    5     5]\n",
      " [    5    29]\n",
      " [    5     2]]\n"
     ]
    }
   ],
   "source": [
    "# Import standard packages\n",
    "import numpy as np\n",
    "import pandas as pd\n",
    "import scipy.stats as stats\n",
    "from scipy import special\n",
    "import matplotlib.pyplot as plt\n",
    "import math\n",
    "\n",
    "# Import additional packages\n",
    "from statsmodels.formula.api import ols\n",
    "from statsmodels.stats.anova import anova_lm\n",
    "from scipy.stats import f\n",
    "\n",
    "alpha = 0.05\n",
    "a = 5\n",
    "n = 4\n",
    "\n",
    "x = pd.read_csv(\"data/Project2.csv\")\n",
    "data = x.values[:,1:3]\n",
    "print(data)"
   ]
  },
  {
   "cell_type": "code",
   "execution_count": 2,
   "metadata": {},
   "outputs": [
    {
     "name": "stdout",
     "output_type": "stream",
     "text": [
      "The ANOVA table: \n",
      "                df       sum_sq     mean_sq     F  PR(>F)\n",
      "C(material)   4.0  103191489.2  25797872.3  6.19     0.0\n",
      "Residual     15.0   62505657.0   4167043.8   NaN     NaN\n",
      "\n",
      "Since p-value < 0.05, reject H0.\n",
      "Since F0 > F(0.05, 3, 20) =  3.06 , reject H0.\n"
     ]
    }
   ],
   "source": [
    "# Sort them into groups, according to column 1(\"Method\")\n",
    "group1 = data[data[:,0] == 1,1]\n",
    "group2 = data[data[:,0] == 2,1]\n",
    "group3 = data[data[:,0] == 3,1]\n",
    "group4 = data[data[:,0] == 4,1]\n",
    "group5 = data[data[:,0] == 5,1]\n",
    "\n",
    "# Do the one-way ANOVA\n",
    "df = pd.DataFrame(data, columns = ['material', 'ftime'])   \n",
    "model = ols('ftime ~ C(material)', df).fit()\n",
    "anovaResults = round(anova_lm(model), 2)\n",
    "print('The ANOVA table: \\n', anovaResults)\n",
    "\n",
    "F0, pVal1 = stats.f_oneway(group1, group2, group3, group4, group5)\n",
    "# 法1：\n",
    "# print(pVal1)\n",
    "if pVal1 < alpha:\n",
    "    print('\\nSince p-value < 0.05, reject H0.')\n",
    "else:\n",
    "    print('\\nAccept H0.') \n",
    "    \n",
    "# 法2：\n",
    "F = round(f.ppf(0.95,dfn = 4,dfd = 15), 2)\n",
    "if F0 > F:\n",
    "    print('Since F0 > F(0.05, 3, 20) = ', F, ', reject H0.')\n",
    "else:\n",
    "    print('Accept H0.') "
   ]
  },
  {
   "cell_type": "code",
   "execution_count": 3,
   "metadata": {},
   "outputs": [
    {
     "name": "stdout",
     "output_type": "stream",
     "text": [
      "6.190928998634478\n",
      "0.0037859562963802845\n"
     ]
    }
   ],
   "source": [
    "print(F0)\n",
    "print(pVal1)"
   ]
  },
  {
   "cell_type": "markdown",
   "metadata": {},
   "source": [
    "由方差分析表可知，P值小于 0.05 且F值大于 3.06，故拒绝原假设，即 5 种绝缘材料的性能存在差异。"
   ]
  },
  {
   "cell_type": "markdown",
   "metadata": {},
   "source": [
    "**Q2:**  \n",
    "ANOVA模型： \n",
    "$y_{ij} = \\mu + \\tau_i + \\epsilon_{ij}$ 的误差服从正态独立分布，其均值为零，方差为未知的常数$\\sigma^2$。 \n",
    "想要判断ANOVA模型是否恰当，可以利用残差检测来进行分析。  \n",
    "处理 $i$ 的观测值 $j$ 的残差定义为：$e_{ij} = y_{ij} - \\hat{y}_{ij}$  \n",
    "其中$\\hat{y}_{ij}$是对应于$y_{ij}$的一个估计， \n",
    "$\\hat{y}_{ij} = \\hat{\\mu} + \\hat{\\tau}_i = \\overline{y}_{··} + (\\overline{y}_{i·} - \\overline{y}_{··}) = \\overline{y}_{i·}$  \n",
    "检验假设：$𝐻_0:\\sigma_1^2 = \\sigma_2^2 = ⋯ = \\sigma_a^2$  vs $𝐻_1:\\sigma_i^2 \\neq \\sigma_j^2, ∃ i \\neq j$  \n",
    "不满足方差齐性的判断依据："
   ]
  },
  {
   "cell_type": "code",
   "execution_count": 4,
   "metadata": {},
   "outputs": [],
   "source": [
    "# 计算残差\n",
    "data_res = data.astype(float) * 1\n",
    "for k in range(a):\n",
    "    cnt = data_res[data_res[:,0] == k + 1,1]\n",
    "    data_res[data_res[:,0] == k + 1,1] = cnt - np.mean(cnt)\n",
    "# print(data_res)"
   ]
  },
  {
   "cell_type": "code",
   "execution_count": 5,
   "metadata": {},
   "outputs": [
    {
     "data": {
      "text/plain": [
       "Text(0, 0.5, 'e_ij')"
      ]
     },
     "execution_count": 5,
     "metadata": {},
     "output_type": "execute_result"
    },
    {
     "data": {
      "image/png": "[encoded data removed]",
      "text/plain": [
       "<Figure size 432x288 with 1 Axes>"
      ]
     },
     "metadata": {
      "needs_background": "light"
     },
     "output_type": "display_data"
    }
   ],
   "source": [
    "# 法1：残差与拟合值的关系图\n",
    "res = data_res[:,1]\n",
    "y = []\n",
    "for i in range(a):\n",
    "    for j in range(n):\n",
    "        y.append(np.mean(data[(data[:,0] == i + 1),1]))\n",
    "plt.scatter(y, res, c = \"red\")\n",
    "plt.title('Plot of residuals versus yˆij')\n",
    "plt.xlabel('y^ij')\n",
    "plt.ylabel('e_ij')"
   ]
  },
  {
   "cell_type": "code",
   "execution_count": 6,
   "metadata": {},
   "outputs": [
    {
     "name": "stdout",
     "output_type": "stream",
     "text": [
      "Bartlett检验的P值为： 0.0\n",
      "Since p-value < 0.05, reject H0.\n"
     ]
    }
   ],
   "source": [
    "# 法2：用Bartlett检验进行方差齐性检验\n",
    "bart, pVal2 = stats.bartlett(group1, group2, group3, group4, group5)\n",
    "bart_stat = stats.chi2.isf(alpha, a - 1)\n",
    "print('Bartlett检验的P值为：', round(pVal2, 4))\n",
    "if pVal2 < alpha:\n",
    "    print('Since p-value < 0.05, reject H0.')\n",
    "else:\n",
    "    print('Accept H0')  "
   ]
  },
  {
   "cell_type": "code",
   "execution_count": 7,
   "metadata": {},
   "outputs": [
    {
     "name": "stdout",
     "output_type": "stream",
     "text": [
      "\n",
      "Levene检验的P值为： 0.0043\n",
      "Since p-value < 0.05, reject H0.\n",
      "\n"
     ]
    }
   ],
   "source": [
    "# 法3：用Levene检验进行方差齐性检验\n",
    "lene, pVal3 = stats.levene(group1, group2, group3, group4, group5)\n",
    "print('\\nLevene检验的P值为：', round(pVal3, 4))\n",
    "if pVal3 < alpha:\n",
    "    print('Since p-value < 0.05, reject H0.\\n')\n",
    "else:\n",
    "    print('Accept H0\\n')  "
   ]
  },
  {
   "cell_type": "markdown",
   "metadata": {},
   "source": [
    "由分析可知:  \n",
    "1. 残差与拟合值的关系图：呈现开口向外的漏斗型，说明方差随均值的增加而增大；\n",
    "2. Bartlett 检验法：P值为 0.0 < 0.05；\n",
    "3. Levene检验法：P值为 0.0043 < 0.05.  \n",
    "\n",
    "结论：拒绝满足方差齐性的原假设。"
   ]
  },
  {
   "cell_type": "markdown",
   "metadata": {},
   "source": [
    "**Q3:**  \n",
    "由第二题的结论可知，实验数据不满足方差齐性。为了研究失效时间如何采用方差稳定化变换，需画出$logS_i$和$log\\overline{y}_{i·}$的关系图。"
   ]
  },
  {
   "cell_type": "code",
   "execution_count": 8,
   "metadata": {},
   "outputs": [
    {
     "name": "stdout",
     "output_type": "stream",
     "text": [
      "斜率为： 0.92\n"
     ]
    },
    {
     "data": {
      "text/plain": [
       "Text(0, 0.5, 'log_Si')"
      ]
     },
     "execution_count": 8,
     "metadata": {},
     "output_type": "execute_result"
    },
    {
     "data": {
      "image/png": "[encoded data removed]",
      "text/plain": [
       "<Figure size 432x288 with 1 Axes>"
      ]
     },
     "metadata": {
      "needs_background": "light"
     },
     "output_type": "display_data"
    }
   ],
   "source": [
    "# 求出各估计方法的标准差sigma_i和均值mu_i的对数\n",
    "# 通常用样本的标准差std_i和均值y_i代替总体的标准差sigma_i和均值mu_i\n",
    "log_y_1 = math.log(np.mean(group1))\n",
    "log_y_2 = math.log(np.mean(group2))\n",
    "log_y_3 = math.log(np.mean(group3))\n",
    "log_y_4 = math.log(np.mean(group4))\n",
    "log_y_5 = math.log(np.mean(group5))\n",
    "log_y = [log_y_1, log_y_2, log_y_3, log_y_4, log_y_5]\n",
    "\n",
    "log_std_1 = math.log(np.std(group1, ddof = 1))\n",
    "log_std_2 = math.log(np.std(group2, ddof = 1))\n",
    "log_std_3 = math.log(np.std(group3, ddof = 1))\n",
    "log_std_4 = math.log(np.std(group4, ddof = 1))\n",
    "log_std_5 = math.log(np.std(group5, ddof = 1))\n",
    "log_std = [log_std_1, log_std_2, log_std_3, log_std_4, log_std_5]\n",
    "\n",
    "# linregress(x,y)线性回归函数\n",
    "slope, intercept, r_value, p_value, std_err = stats.linregress(log_y, log_std)\n",
    "print('斜率为：', round(slope, 2))\n",
    "\n",
    "# 作图\n",
    "plt.scatter(log_y, log_std)\n",
    "plt.title('Plot of log_Si versus log yi· for the peak discharge data')\n",
    "plt.xlabel('log_yi·')\n",
    "plt.ylabel('log_Si')\n"
   ]
  },
  {
   "cell_type": "markdown",
   "metadata": {},
   "source": [
    "过这 5 点的直线斜率为 $0.92$ ，即 $\\alpha= 0.92$。根据 $\\lambda = 1−\\alpha，\\lambda = 0.08$。变换后的数据为 $𝑦^* = y^{0.08}$ 。\n",
    "\n",
    "或者取$\\lambda = 0.1$，则变换后的数据为$𝑦^* = y^{0.1}$，这里不用这种近似方法。"
   ]
  },
  {
   "cell_type": "code",
   "execution_count": 9,
   "metadata": {},
   "outputs": [
    {
     "data": {
      "text/plain": [
       "Text(0, 0.5, 'e_ij*')"
      ]
     },
     "execution_count": 9,
     "metadata": {},
     "output_type": "execute_result"
    },
    {
     "data": {
      "image/png": "[encoded data removed]",
      "text/plain": [
       "<Figure size 432x288 with 1 Axes>"
      ]
     },
     "metadata": {
      "needs_background": "light"
     },
     "output_type": "display_data"
    }
   ],
   "source": [
    "# 计算y**0.08进行方差稳定化变换\n",
    "s_group1 = group1 ** 0.08\n",
    "s_group2 = group2 ** 0.08\n",
    "s_group3 = group3 ** 0.08\n",
    "s_group4 = group4 ** 0.08\n",
    "s_group5 = group5 ** 0.08\n",
    "s_groups = [s_group1, s_group2, s_group3, s_group4, s_group5]\n",
    "s_groups1 = pd.DataFrame(s_groups)\n",
    "\n",
    "\n",
    "# 计算变换后的残差\n",
    "df = np.array(s_groups)\n",
    "s_data = [data[:,0], df.reshape(1, 20).tolist()[0]]\n",
    "s_data = np.array(s_data * 1).T\n",
    "s_data_res = s_data * 1\n",
    "for k in range(a):\n",
    "    s_cnt = s_data_res[s_data_res[:,0] == k + 1,1]\n",
    "    s_data_res[s_data_res[:,0] == k + 1,1] = s_cnt - np.mean(s_cnt)\n",
    "\n",
    "# 变换后的残差与拟合值的关系图\n",
    "s_res = s_data_res[:,1]\n",
    "s_y = []\n",
    "for i in range(a):\n",
    "    for j in range(n):\n",
    "        s_y.append(np.mean(s_data[(s_data[:,0] == i + 1),1]))\n",
    "plt.scatter(s_y, s_res, c = \"red\")\n",
    "plt.title('Plot of residuals versus y_ij*')\n",
    "plt.xlabel('y_ij*')\n",
    "plt.ylabel('e_ij*')"
   ]
  },
  {
   "cell_type": "markdown",
   "metadata": {},
   "source": [
    "上图为变换后的残差与拟合值的关系图"
   ]
  },
  {
   "cell_type": "markdown",
   "metadata": {},
   "source": [
    "【补充】Box-Cox变换：Box-Cox变换的主要特点是引入一个参数 $\\lambda$，通过数据本身估计该参数进而确定应采取的数据变换形式，Box-Cox变换可以明显地改善数据的正态性、方差齐性。  \n",
    "Box-Cox变换的一般形式为：  \n",
    "$$ y(\\lambda)=\\left\\{\n",
    "\\begin{aligned}\n",
    "\\frac{(y+c)^{\\lambda}-1}{\\lambda} & ,&\\lambda \\neq 0 \\\\\n",
    "\\ln (y+c) & ,& \\lambda = 0 \n",
    "\\end{aligned}\n",
    "\\right.\n",
    "$$\n",
    "式中$y(\\lambda)$为经Box-Cox变换后得到的新变量，$y$ 为原始连续因变量，其中 $y+c$ 的 $+c$ 是为了确保 $(y+c)>0$,因为在Box-Cox变换中要求 $y>0$，$\\lambda$ 为变换参数。  \n",
    "在这里可以看到 $\\lambda$ 的值是需要我们自己去确定的，那么怎么去确定呢？这里使用的方法是假设经过转换后的因变量就是服从正态分布的，然后画出关于 $\\lambda$ 的似然函数，似然函数值最大的时候 $\\lambda$ 的取值就是这里需要确定的值。"
   ]
  },
  {
   "cell_type": "code",
   "execution_count": 10,
   "metadata": {},
   "outputs": [
    {
     "name": "stdout",
     "output_type": "stream",
     "text": [
      "lmax_mle:  0.016756747738272192\n",
      "lmax_pearsonr:  0.014405179642792882\n"
     ]
    },
    {
     "data": {
      "image/png": "[encoded data removed]",
      "text/plain": [
       "<Figure size 432x288 with 1 Axes>"
      ]
     },
     "metadata": {
      "needs_background": "light"
     },
     "output_type": "display_data"
    },
    {
     "data": {
      "text/plain": [
       "Text(0, 0.5, 'e_ij*')"
      ]
     },
     "execution_count": 10,
     "metadata": {},
     "output_type": "execute_result"
    },
    {
     "data": {
      "image/png": "[encoded data removed]",
      "text/plain": [
       "<Figure size 432x288 with 1 Axes>"
      ]
     },
     "metadata": {
      "needs_background": "light"
     },
     "output_type": "display_data"
    }
   ],
   "source": [
    "# 作Box-Cox变换\n",
    "bc, lmax_mle = stats.boxcox(data[:,1])\n",
    "lmax_pearsonr = stats.boxcox_normmax(data[:,1])\n",
    "print('lmax_mle: ', lmax_mle)\n",
    "print('lmax_pearsonr: ', lmax_pearsonr)\n",
    "\n",
    "fig = plt.figure()\n",
    "ax = fig.add_subplot(111)\n",
    "prob = stats.boxcox_normplot(data[:,1], -10, 10, plot = ax)\n",
    "ax.axvline(lmax_mle, color='r')\n",
    "ax.axvline(lmax_pearsonr, color='g', ls='--')\n",
    "plt.show()\n",
    "\n",
    "# 计算变换后的残差\n",
    "bc_group1 = bc[0:4]\n",
    "bc_group2 = bc[4:8]\n",
    "bc_group3 = bc[8:12]\n",
    "bc_group4 = bc[12:16]\n",
    "bc_group5 = bc[16:20]\n",
    "bc_groups = [bc_group1, bc_group2, bc_group3, bc_group4, bc_group5]\n",
    "bc_groups1 = pd.DataFrame(bc_groups)\n",
    "# print(bc_groups1)\n",
    "\n",
    "df = np.array(bc_groups)\n",
    "bc_data = [data[:,0], df.reshape(1, 20).tolist()[0]]\n",
    "bc_data = np.array(bc_data * 1).T\n",
    "bc_data_res = bc_data * 1\n",
    "for k in range(a):\n",
    "    bc_cnt = bc_data_res[bc_data_res[:,0] == k + 1,1]\n",
    "    bc_data_res[bc_data_res[:,0] == k + 1,1] = bc_cnt - np.mean(bc_cnt)\n",
    "\n",
    "# 变换后的残差与拟合值的关系图\n",
    "bc_res = bc_data_res[:,1]\n",
    "bc_y = []\n",
    "for i in range(a):\n",
    "    for j in range(n):\n",
    "        bc_y.append(np.mean(bc_data[(bc_data[:,0] == i + 1),1]))\n",
    "plt.scatter(bc_y, bc_res, c = \"red\")\n",
    "plt.title('Plot of residuals versus y_ij*')\n",
    "plt.xlabel('y_ij*')\n",
    "plt.ylabel('e_ij*')"
   ]
  },
  {
   "cell_type": "markdown",
   "metadata": {},
   "source": [
    "上图为变换后的残差与拟合值的关系图"
   ]
  },
  {
   "cell_type": "markdown",
   "metadata": {},
   "source": [
    "Q4:"
   ]
  },
  {
   "cell_type": "code",
   "execution_count": 11,
   "metadata": {},
   "outputs": [
    {
     "name": "stdout",
     "output_type": "stream",
     "text": [
      "Accept H0\n",
      "\n"
     ]
    }
   ],
   "source": [
    "# 计算y^0.08，再用Levene检验进行方差齐性检验\n",
    "s_lene, pVal4 = stats.levene(s_group1, s_group2, s_group3, s_group4, s_group5)\n",
    "if pVal4 < alpha:\n",
    "    print('Since p-value < 0.05, reject H0.\\n')\n",
    "else:\n",
    "    print('Accept H0\\n')  "
   ]
  },
  {
   "cell_type": "code",
   "execution_count": 12,
   "metadata": {},
   "outputs": [
    {
     "name": "stdout",
     "output_type": "stream",
     "text": [
      "Accept H0\n",
      "\n"
     ]
    }
   ],
   "source": [
    "# Box-Cox变换后，再用Levene检验进行方差齐性检验 \n",
    "bc_lene, pVal5 = stats.levene(bc_group1, bc_group2, bc_group3, bc_group4, bc_group5)\n",
    "if pVal5 < alpha:\n",
    "    print('Since p-value < 0.05, reject H0.\\n')\n",
    "else:\n",
    "    print('Accept H0\\n') "
   ]
  },
  {
   "cell_type": "markdown",
   "metadata": {},
   "source": [
    "接受Levene检验的原假设，用这两种方式进行数据变换后，处理后的数据均满足方差齐性。"
   ]
  },
  {
   "cell_type": "code",
   "execution_count": 13,
   "metadata": {},
   "outputs": [
    {
     "name": "stdout",
     "output_type": "stream",
     "text": [
      "Since p-value < 0.05, reject H0.\n",
      "\n"
     ]
    }
   ],
   "source": [
    "# 计算y^0.08，Do the one-way ANOVA with transformation of square root\n",
    "sqrt_F0, pVal6 = stats.f_oneway(s_group1, s_group2, s_group3, s_group4, s_group5)\n",
    "if pVal6 < alpha:\n",
    "    print('Since p-value < 0.05, reject H0.\\n')\n",
    "else:\n",
    "    print('Accept H0\\n') "
   ]
  },
  {
   "cell_type": "code",
   "execution_count": 14,
   "metadata": {},
   "outputs": [
    {
     "name": "stdout",
     "output_type": "stream",
     "text": [
      "Since p-value < 0.05, reject H0.\n",
      "\n"
     ]
    }
   ],
   "source": [
    "# Box-Cox变换后，Do the one-way ANOVA with transformation of square root\n",
    "bc_F0, pVal7 = stats.f_oneway(bc_group1, bc_group2, bc_group3, bc_group4, bc_group5)\n",
    "if pVal7 < alpha:\n",
    "    print('Since p-value < 0.05, reject H0.\\n')\n",
    "else:\n",
    "    print('Accept H0\\n') "
   ]
  },
  {
   "cell_type": "markdown",
   "metadata": {},
   "source": [
    "对用这两种方式变换后的数据进行单因素方差分析检验，拒绝原假设，即 5 种绝缘材料的性能存在差异"
   ]
  },
  {
   "cell_type": "code",
   "execution_count": 15,
   "metadata": {},
   "outputs": [
    {
     "name": "stdout",
     "output_type": "stream",
     "text": [
      "35.32243586798019\n",
      "1.807988537427157e-07\n",
      "37.6248973335117\n",
      "1.1828444086335894e-07\n"
     ]
    }
   ],
   "source": [
    "print(sqrt_F0)\n",
    "print(pVal6)\n",
    "print(bc_F0)\n",
    "print(pVal7)"
   ]
  },
  {
   "cell_type": "markdown",
   "metadata": {},
   "source": [
    "具体计算方差分析表如下"
   ]
  },
  {
   "cell_type": "code",
   "execution_count": 16,
   "metadata": {},
   "outputs": [
    {
     "name": "stdout",
     "output_type": "stream",
     "text": [
      "               df    sum_sq   mean_sq          F        PR(>F)\n",
      "C(material)   4.0  2.326792  0.581698  35.322436  1.807989e-07\n",
      "Residual     15.0  0.247023  0.016468        NaN           NaN\n"
     ]
    }
   ],
   "source": [
    "# 计算y^0.08，Elegant alternative implementation, with pandas & statsmodels\n",
    "for i in range(a):\n",
    "    data = data.astype('float') #需要加这一行代码，否则差距很大\n",
    "    data[0 + 4 * i:4 * (i + 1), 1] = list(s_groups[i])\n",
    "df = pd.DataFrame(data, columns = ['material', 'ftime'])   \n",
    "model = ols('ftime ~ C(material)', df).fit()\n",
    "anovaResults = anova_lm(model)\n",
    "print(anovaResults)"
   ]
  },
  {
   "cell_type": "code",
   "execution_count": 17,
   "metadata": {},
   "outputs": [
    {
     "name": "stdout",
     "output_type": "stream",
     "text": [
      "               df      sum_sq    mean_sq          F        PR(>F)\n",
      "C(material)   4.0  193.668327  48.417082  37.624897  1.182844e-07\n",
      "Residual     15.0   19.302544   1.286836        NaN           NaN\n"
     ]
    }
   ],
   "source": [
    "#Box-Cox变换后\n",
    "for i in range(a):\n",
    "    data = data.astype('float') #需要加这一行代码，否则差距很大\n",
    "    data[0 + 4 * i:4 * (i + 1), 1] = list(bc_groups[i])\n",
    "df = pd.DataFrame(data, columns = ['material', 'ftime'])   \n",
    "model = ols('ftime ~ C(material)', df).fit()\n",
    "anovaResults = anova_lm(model)\n",
    "print(anovaResults)"
   ]
  },
  {
   "cell_type": "markdown",
   "metadata": {},
   "source": [
    "以上其实是用两种代码方式计算检验统计量F值和p-value，可以看到两种方式得到的结果是一致的。\n",
    "\n",
    "如果缺失data = data.astype('float')，得到的结果不一致。所以data = data.astype('float')调整数据精度是有必要的"
   ]
  },
  {
   "cell_type": "markdown",
   "metadata": {},
   "source": [
    "由上结果可知，稳定化变换后的数据满足方差齐性。\n",
    "\n",
    "再进行单因素方差分析，由方差分析表知，P值小于0.05，故拒绝原假设，即 5 种绝缘材料的性能存在差异。"
   ]
  },
  {
   "cell_type": "code",
   "execution_count": null,
   "metadata": {},
   "outputs": [],
   "source": []
  }
 ],
 "metadata": {
  "kernelspec": {
   "display_name": "Python 3",
   "language": "python",
   "name": "python3"
  },
  "language_info": {
   "codemirror_mode": {
    "name": "ipython",
    "version": 3
   },
   "file_extension": ".py",
   "mimetype": "text/x-python",
   "name": "python",
   "nbconvert_exporter": "python",
   "pygments_lexer": "ipython3",
   "version": "3.7.4"
  },
  "toc": {
   "base_numbering": 1,
   "nav_menu": {},
   "number_sections": true,
   "sideBar": true,
   "skip_h1_title": false,
   "title_cell": "Table of Contents",
   "title_sidebar": "Contents",
   "toc_cell": false,
   "toc_position": {},
   "toc_section_display": true,
   "toc_window_display": false
  },
  "varInspector": {
   "cols": {
    "lenName": 16,
    "lenType": 16,
    "lenVar": 40
   },
   "kernels_config": {
    "python": {
     "delete_cmd_postfix": "",
     "delete_cmd_prefix": "del ",
     "library": "var_list.py",
     "varRefreshCmd": "print(var_dic_list())"
    },
    "r": {
     "delete_cmd_postfix": ") ",
     "delete_cmd_prefix": "rm(",
     "library": "var_list.r",
     "varRefreshCmd": "cat(var_dic_list()) "
    }
   },
   "types_to_exclude": [
    "module",
    "function",
    "builtin_function_or_method",
    "instance",
    "_Feature"
   ],
   "window_display": false
  }
 },
 "nbformat": 4,
 "nbformat_minor": 2
}
